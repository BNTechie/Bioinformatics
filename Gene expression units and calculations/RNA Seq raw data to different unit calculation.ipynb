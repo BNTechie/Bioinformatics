{
 "cells": [
  {
   "cell_type": "markdown",
   "id": "000d7e26",
   "metadata": {},
   "source": [
    "# Gene expression units and calculation\n"
   ]
  },
  {
   "cell_type": "markdown",
   "id": "4b5a1d0b",
   "metadata": {},
   "source": [
    "**RPM or CPM (Reads per million mapped reads or Counts per million mapped reads)**\n",
    "\n",
    "\n",
    "RPM (also known as CPM) is a basic gene expression unit that normalizes only for sequencing depth (depth-normalized counts). The RPM is biased in some applications where the gene length influences gene expression, such as RNA-seq.\n",
    "\n"
   ]
  },
  {
   "cell_type": "code",
   "execution_count": 6,
   "id": "f70617a9",
   "metadata": {},
   "outputs": [
    {
     "name": "stderr",
     "output_type": "stream",
     "text": [
      "Matplotlib is building the font cache; this may take a moment.\n"
     ]
    },
    {
     "data": {
      "text/html": [
       "<div>\n",
       "<style scoped>\n",
       "    .dataframe tbody tr th:only-of-type {\n",
       "        vertical-align: middle;\n",
       "    }\n",
       "\n",
       "    .dataframe tbody tr th {\n",
       "        vertical-align: top;\n",
       "    }\n",
       "\n",
       "    .dataframe thead th {\n",
       "        text-align: right;\n",
       "    }\n",
       "</style>\n",
       "<table border=\"1\" class=\"dataframe\">\n",
       "  <thead>\n",
       "    <tr style=\"text-align: right;\">\n",
       "      <th></th>\n",
       "      <th>gene</th>\n",
       "      <th>ctr1</th>\n",
       "      <th>ctr2</th>\n",
       "      <th>ctr3</th>\n",
       "      <th>trt1</th>\n",
       "      <th>trt2</th>\n",
       "      <th>trt3</th>\n",
       "      <th>length</th>\n",
       "    </tr>\n",
       "  </thead>\n",
       "  <tbody>\n",
       "    <tr>\n",
       "      <th>0</th>\n",
       "      <td>Sobic.001G000200</td>\n",
       "      <td>338</td>\n",
       "      <td>324</td>\n",
       "      <td>246</td>\n",
       "      <td>291</td>\n",
       "      <td>202</td>\n",
       "      <td>168</td>\n",
       "      <td>1982.0</td>\n",
       "    </tr>\n",
       "    <tr>\n",
       "      <th>1</th>\n",
       "      <td>Sobic.001G000400</td>\n",
       "      <td>49</td>\n",
       "      <td>21</td>\n",
       "      <td>53</td>\n",
       "      <td>16</td>\n",
       "      <td>16</td>\n",
       "      <td>11</td>\n",
       "      <td>4769.0</td>\n",
       "    </tr>\n",
       "  </tbody>\n",
       "</table>\n",
       "</div>"
      ],
      "text/plain": [
       "               gene  ctr1  ctr2  ctr3  trt1  trt2  trt3  length\n",
       "0  Sobic.001G000200   338   324   246   291   202   168  1982.0\n",
       "1  Sobic.001G000400    49    21    53    16    16    11  4769.0"
      ]
     },
     "execution_count": 6,
     "metadata": {},
     "output_type": "execute_result"
    }
   ],
   "source": [
    "from bioinfokit.analys import norm, get_data\n",
    "# load sugarcane RNA-seq expression dataset (Published in Bedre et al., 2019)\n",
    "df = get_data('sc_exp').data\n",
    "df.head(2)\n"
   ]
  },
  {
   "cell_type": "code",
   "execution_count": 7,
   "id": "3e8fb26b-4a39-4b5f-831e-67cde9f05a6e",
   "metadata": {},
   "outputs": [],
   "source": [
    "#import sys\n",
    "#!{sys.executable} -m pip install bioinfokit\n"
   ]
  },
  {
   "cell_type": "code",
   "execution_count": 8,
   "id": "2ffb2e9c",
   "metadata": {},
   "outputs": [
    {
     "data": {
      "text/html": [
       "<div>\n",
       "<style scoped>\n",
       "    .dataframe tbody tr th:only-of-type {\n",
       "        vertical-align: middle;\n",
       "    }\n",
       "\n",
       "    .dataframe tbody tr th {\n",
       "        vertical-align: top;\n",
       "    }\n",
       "\n",
       "    .dataframe thead th {\n",
       "        text-align: right;\n",
       "    }\n",
       "</style>\n",
       "<table border=\"1\" class=\"dataframe\">\n",
       "  <thead>\n",
       "    <tr style=\"text-align: right;\">\n",
       "      <th></th>\n",
       "      <th>ctr1</th>\n",
       "      <th>ctr2</th>\n",
       "      <th>ctr3</th>\n",
       "      <th>trt1</th>\n",
       "      <th>trt2</th>\n",
       "      <th>trt3</th>\n",
       "    </tr>\n",
       "    <tr>\n",
       "      <th>gene</th>\n",
       "      <th></th>\n",
       "      <th></th>\n",
       "      <th></th>\n",
       "      <th></th>\n",
       "      <th></th>\n",
       "      <th></th>\n",
       "    </tr>\n",
       "  </thead>\n",
       "  <tbody>\n",
       "    <tr>\n",
       "      <th>Sobic.001G000200</th>\n",
       "      <td>338</td>\n",
       "      <td>324</td>\n",
       "      <td>246</td>\n",
       "      <td>291</td>\n",
       "      <td>202</td>\n",
       "      <td>168</td>\n",
       "    </tr>\n",
       "    <tr>\n",
       "      <th>Sobic.001G000400</th>\n",
       "      <td>49</td>\n",
       "      <td>21</td>\n",
       "      <td>53</td>\n",
       "      <td>16</td>\n",
       "      <td>16</td>\n",
       "      <td>11</td>\n",
       "    </tr>\n",
       "  </tbody>\n",
       "</table>\n",
       "</div>"
      ],
      "text/plain": [
       "                  ctr1  ctr2  ctr3  trt1  trt2  trt3\n",
       "gene                                                \n",
       "Sobic.001G000200   338   324   246   291   202   168\n",
       "Sobic.001G000400    49    21    53    16    16    11"
      ]
     },
     "execution_count": 8,
     "metadata": {},
     "output_type": "execute_result"
    }
   ],
   "source": [
    "# as this data has gene length column, we will drop length column\n",
    "df = df.drop(['length'], axis=1)\n",
    "# make gene column as index column\n",
    "df = df.set_index('gene')\n",
    "df.head(2)\n"
   ]
  },
  {
   "cell_type": "code",
   "execution_count": 9,
   "id": "b7f151b9",
   "metadata": {},
   "outputs": [
    {
     "data": {
      "text/html": [
       "<div>\n",
       "<style scoped>\n",
       "    .dataframe tbody tr th:only-of-type {\n",
       "        vertical-align: middle;\n",
       "    }\n",
       "\n",
       "    .dataframe tbody tr th {\n",
       "        vertical-align: top;\n",
       "    }\n",
       "\n",
       "    .dataframe thead th {\n",
       "        text-align: right;\n",
       "    }\n",
       "</style>\n",
       "<table border=\"1\" class=\"dataframe\">\n",
       "  <thead>\n",
       "    <tr style=\"text-align: right;\">\n",
       "      <th></th>\n",
       "      <th>ctr1</th>\n",
       "      <th>ctr2</th>\n",
       "      <th>ctr3</th>\n",
       "      <th>trt1</th>\n",
       "      <th>trt2</th>\n",
       "      <th>trt3</th>\n",
       "    </tr>\n",
       "    <tr>\n",
       "      <th>gene</th>\n",
       "      <th></th>\n",
       "      <th></th>\n",
       "      <th></th>\n",
       "      <th></th>\n",
       "      <th></th>\n",
       "      <th></th>\n",
       "    </tr>\n",
       "  </thead>\n",
       "  <tbody>\n",
       "    <tr>\n",
       "      <th>Sobic.001G000200</th>\n",
       "      <td>100.695004</td>\n",
       "      <td>101.731189</td>\n",
       "      <td>74.721094</td>\n",
       "      <td>92.633828</td>\n",
       "      <td>74.270713</td>\n",
       "      <td>95.314714</td>\n",
       "    </tr>\n",
       "    <tr>\n",
       "      <th>Sobic.001G000400</th>\n",
       "      <td>14.597796</td>\n",
       "      <td>6.593688</td>\n",
       "      <td>16.098447</td>\n",
       "      <td>5.093269</td>\n",
       "      <td>5.882829</td>\n",
       "      <td>6.240844</td>\n",
       "    </tr>\n",
       "  </tbody>\n",
       "</table>\n",
       "</div>"
      ],
      "text/plain": [
       "                        ctr1        ctr2       ctr3       trt1       trt2  \\\n",
       "gene                                                                        \n",
       "Sobic.001G000200  100.695004  101.731189  74.721094  92.633828  74.270713   \n",
       "Sobic.001G000400   14.597796    6.593688  16.098447   5.093269   5.882829   \n",
       "\n",
       "                       trt3  \n",
       "gene                         \n",
       "Sobic.001G000200  95.314714  \n",
       "Sobic.001G000400   6.240844  "
      ]
     },
     "execution_count": 9,
     "metadata": {},
     "output_type": "execute_result"
    }
   ],
   "source": [
    "# now, normalize raw counts using CPM method \n",
    "nm = norm()\n",
    "nm.cpm(df=df)\n",
    "# get CPM normalized dataframe\n",
    "cpm_df = nm.cpm_norm\n",
    "cpm_df.head(2)\n"
   ]
  },
  {
   "cell_type": "markdown",
   "id": "ac281484",
   "metadata": {},
   "source": [
    "**RPKM (Reads per kilo base of transcript per million mapped reads)**\n"
   ]
  },
  {
   "cell_type": "markdown",
   "id": "e4eda223",
   "metadata": {},
   "source": [
    "RPKM (reads per kilobase of transcript per million reads mapped) is a gene expression unit that measures the expression levels (mRNA abundance) of genes or transcripts. RPKM is a gene length normalized expression unit that is used for identifying the differentially expressed genes by comparing the RPKM values between different experimental conditions. Generally, the higher the RPKM of a gene, the higher the expression of that gene.\n",
    "\n"
   ]
  },
  {
   "cell_type": "markdown",
   "id": "e8fc7ab5",
   "metadata": {},
   "source": [
    "RPKM/FPKM does not represent the accurate measure of relative RNA molar concentration (rmc) and can be biased towards identifying the differentially expressed genes as the total normalized counts for each sample will be different 3,4. TPM is proposed as an alternative to the RPKM.\n",
    "\n"
   ]
  },
  {
   "cell_type": "code",
   "execution_count": 10,
   "id": "9b5b07dd",
   "metadata": {},
   "outputs": [
    {
     "data": {
      "text/html": [
       "<div>\n",
       "<style scoped>\n",
       "    .dataframe tbody tr th:only-of-type {\n",
       "        vertical-align: middle;\n",
       "    }\n",
       "\n",
       "    .dataframe tbody tr th {\n",
       "        vertical-align: top;\n",
       "    }\n",
       "\n",
       "    .dataframe thead th {\n",
       "        text-align: right;\n",
       "    }\n",
       "</style>\n",
       "<table border=\"1\" class=\"dataframe\">\n",
       "  <thead>\n",
       "    <tr style=\"text-align: right;\">\n",
       "      <th></th>\n",
       "      <th>gene</th>\n",
       "      <th>ctr1</th>\n",
       "      <th>ctr2</th>\n",
       "      <th>ctr3</th>\n",
       "      <th>trt1</th>\n",
       "      <th>trt2</th>\n",
       "      <th>trt3</th>\n",
       "      <th>length</th>\n",
       "    </tr>\n",
       "  </thead>\n",
       "  <tbody>\n",
       "    <tr>\n",
       "      <th>0</th>\n",
       "      <td>Sobic.001G000200</td>\n",
       "      <td>338</td>\n",
       "      <td>324</td>\n",
       "      <td>246</td>\n",
       "      <td>291</td>\n",
       "      <td>202</td>\n",
       "      <td>168</td>\n",
       "      <td>1982.0</td>\n",
       "    </tr>\n",
       "    <tr>\n",
       "      <th>1</th>\n",
       "      <td>Sobic.001G000400</td>\n",
       "      <td>49</td>\n",
       "      <td>21</td>\n",
       "      <td>53</td>\n",
       "      <td>16</td>\n",
       "      <td>16</td>\n",
       "      <td>11</td>\n",
       "      <td>4769.0</td>\n",
       "    </tr>\n",
       "  </tbody>\n",
       "</table>\n",
       "</div>"
      ],
      "text/plain": [
       "               gene  ctr1  ctr2  ctr3  trt1  trt2  trt3  length\n",
       "0  Sobic.001G000200   338   324   246   291   202   168  1982.0\n",
       "1  Sobic.001G000400    49    21    53    16    16    11  4769.0"
      ]
     },
     "execution_count": 10,
     "metadata": {},
     "output_type": "execute_result"
    }
   ],
   "source": [
    "from bioinfokit.analys import norm, get_data\n",
    "# load sugarcane RNA-seq expression dataset (Published in Bedre et al., 2019)\n",
    "df = get_data('sc_exp').data\n",
    "df.head(2)\n"
   ]
  },
  {
   "cell_type": "code",
   "execution_count": 11,
   "id": "a31b5d39",
   "metadata": {},
   "outputs": [
    {
     "data": {
      "text/html": [
       "<div>\n",
       "<style scoped>\n",
       "    .dataframe tbody tr th:only-of-type {\n",
       "        vertical-align: middle;\n",
       "    }\n",
       "\n",
       "    .dataframe tbody tr th {\n",
       "        vertical-align: top;\n",
       "    }\n",
       "\n",
       "    .dataframe thead th {\n",
       "        text-align: right;\n",
       "    }\n",
       "</style>\n",
       "<table border=\"1\" class=\"dataframe\">\n",
       "  <thead>\n",
       "    <tr style=\"text-align: right;\">\n",
       "      <th></th>\n",
       "      <th>ctr1</th>\n",
       "      <th>ctr2</th>\n",
       "      <th>ctr3</th>\n",
       "      <th>trt1</th>\n",
       "      <th>trt2</th>\n",
       "      <th>trt3</th>\n",
       "      <th>length</th>\n",
       "    </tr>\n",
       "    <tr>\n",
       "      <th>gene</th>\n",
       "      <th></th>\n",
       "      <th></th>\n",
       "      <th></th>\n",
       "      <th></th>\n",
       "      <th></th>\n",
       "      <th></th>\n",
       "      <th></th>\n",
       "    </tr>\n",
       "  </thead>\n",
       "  <tbody>\n",
       "    <tr>\n",
       "      <th>Sobic.001G000200</th>\n",
       "      <td>338</td>\n",
       "      <td>324</td>\n",
       "      <td>246</td>\n",
       "      <td>291</td>\n",
       "      <td>202</td>\n",
       "      <td>168</td>\n",
       "      <td>1982.0</td>\n",
       "    </tr>\n",
       "    <tr>\n",
       "      <th>Sobic.001G000400</th>\n",
       "      <td>49</td>\n",
       "      <td>21</td>\n",
       "      <td>53</td>\n",
       "      <td>16</td>\n",
       "      <td>16</td>\n",
       "      <td>11</td>\n",
       "      <td>4769.0</td>\n",
       "    </tr>\n",
       "  </tbody>\n",
       "</table>\n",
       "</div>"
      ],
      "text/plain": [
       "                  ctr1  ctr2  ctr3  trt1  trt2  trt3  length\n",
       "gene                                                        \n",
       "Sobic.001G000200   338   324   246   291   202   168  1982.0\n",
       "Sobic.001G000400    49    21    53    16    16    11  4769.0"
      ]
     },
     "execution_count": 11,
     "metadata": {},
     "output_type": "execute_result"
    }
   ],
   "source": [
    "# make gene column as index column\n",
    "df = df.set_index('gene')\n",
    "df.head(2)\n",
    "\n"
   ]
  },
  {
   "cell_type": "code",
   "execution_count": 12,
   "id": "032898c6",
   "metadata": {},
   "outputs": [
    {
     "data": {
      "text/html": [
       "<div>\n",
       "<style scoped>\n",
       "    .dataframe tbody tr th:only-of-type {\n",
       "        vertical-align: middle;\n",
       "    }\n",
       "\n",
       "    .dataframe tbody tr th {\n",
       "        vertical-align: top;\n",
       "    }\n",
       "\n",
       "    .dataframe thead th {\n",
       "        text-align: right;\n",
       "    }\n",
       "</style>\n",
       "<table border=\"1\" class=\"dataframe\">\n",
       "  <thead>\n",
       "    <tr style=\"text-align: right;\">\n",
       "      <th></th>\n",
       "      <th>ctr1</th>\n",
       "      <th>ctr2</th>\n",
       "      <th>ctr3</th>\n",
       "      <th>trt1</th>\n",
       "      <th>trt2</th>\n",
       "      <th>trt3</th>\n",
       "    </tr>\n",
       "    <tr>\n",
       "      <th>gene</th>\n",
       "      <th></th>\n",
       "      <th></th>\n",
       "      <th></th>\n",
       "      <th></th>\n",
       "      <th></th>\n",
       "      <th></th>\n",
       "    </tr>\n",
       "  </thead>\n",
       "  <tbody>\n",
       "    <tr>\n",
       "      <th>Sobic.001G000200</th>\n",
       "      <td>50.804745</td>\n",
       "      <td>51.327542</td>\n",
       "      <td>37.699846</td>\n",
       "      <td>46.737552</td>\n",
       "      <td>37.472610</td>\n",
       "      <td>48.090169</td>\n",
       "    </tr>\n",
       "    <tr>\n",
       "      <th>Sobic.001G000400</th>\n",
       "      <td>3.060976</td>\n",
       "      <td>1.382614</td>\n",
       "      <td>3.375644</td>\n",
       "      <td>1.067995</td>\n",
       "      <td>1.233556</td>\n",
       "      <td>1.308627</td>\n",
       "    </tr>\n",
       "  </tbody>\n",
       "</table>\n",
       "</div>"
      ],
      "text/plain": [
       "                       ctr1       ctr2       ctr3       trt1       trt2  \\\n",
       "gene                                                                      \n",
       "Sobic.001G000200  50.804745  51.327542  37.699846  46.737552  37.472610   \n",
       "Sobic.001G000400   3.060976   1.382614   3.375644   1.067995   1.233556   \n",
       "\n",
       "                       trt3  \n",
       "gene                         \n",
       "Sobic.001G000200  48.090169  \n",
       "Sobic.001G000400   1.308627  "
      ]
     },
     "execution_count": 12,
     "metadata": {},
     "output_type": "execute_result"
    }
   ],
   "source": [
    "# now, normalize raw counts using RPKM method\n",
    "# gene length must be in bp\n",
    "nm = norm()\n",
    "nm.rpkm(df=df, gl='length')\n",
    "# get RPKM normalized dataframe\n",
    "rpkm_df = nm.rpkm_norm\n",
    "rpkm_df.head(2)\n"
   ]
  },
  {
   "cell_type": "markdown",
   "id": "b7db4bd6",
   "metadata": {},
   "source": [
    "**TPM (Transcripts per million)**"
   ]
  },
  {
   "cell_type": "markdown",
   "id": "b912738a",
   "metadata": {},
   "source": [
    "TPM is proposed as an alternative to RPKM because of inaccuracy in RPKM measurement. \n",
    "In contrast to RPKM, the TPM average is constant and is proportional to the relative RNA molar concentration (rmc).\n"
   ]
  },
  {
   "cell_type": "code",
   "execution_count": 13,
   "id": "2b515cdd",
   "metadata": {},
   "outputs": [
    {
     "data": {
      "text/html": [
       "<div>\n",
       "<style scoped>\n",
       "    .dataframe tbody tr th:only-of-type {\n",
       "        vertical-align: middle;\n",
       "    }\n",
       "\n",
       "    .dataframe tbody tr th {\n",
       "        vertical-align: top;\n",
       "    }\n",
       "\n",
       "    .dataframe thead th {\n",
       "        text-align: right;\n",
       "    }\n",
       "</style>\n",
       "<table border=\"1\" class=\"dataframe\">\n",
       "  <thead>\n",
       "    <tr style=\"text-align: right;\">\n",
       "      <th></th>\n",
       "      <th>gene</th>\n",
       "      <th>ctr1</th>\n",
       "      <th>ctr2</th>\n",
       "      <th>ctr3</th>\n",
       "      <th>trt1</th>\n",
       "      <th>trt2</th>\n",
       "      <th>trt3</th>\n",
       "      <th>length</th>\n",
       "    </tr>\n",
       "  </thead>\n",
       "  <tbody>\n",
       "    <tr>\n",
       "      <th>0</th>\n",
       "      <td>Sobic.001G000200</td>\n",
       "      <td>338</td>\n",
       "      <td>324</td>\n",
       "      <td>246</td>\n",
       "      <td>291</td>\n",
       "      <td>202</td>\n",
       "      <td>168</td>\n",
       "      <td>1982.0</td>\n",
       "    </tr>\n",
       "    <tr>\n",
       "      <th>1</th>\n",
       "      <td>Sobic.001G000400</td>\n",
       "      <td>49</td>\n",
       "      <td>21</td>\n",
       "      <td>53</td>\n",
       "      <td>16</td>\n",
       "      <td>16</td>\n",
       "      <td>11</td>\n",
       "      <td>4769.0</td>\n",
       "    </tr>\n",
       "  </tbody>\n",
       "</table>\n",
       "</div>"
      ],
      "text/plain": [
       "               gene  ctr1  ctr2  ctr3  trt1  trt2  trt3  length\n",
       "0  Sobic.001G000200   338   324   246   291   202   168  1982.0\n",
       "1  Sobic.001G000400    49    21    53    16    16    11  4769.0"
      ]
     },
     "execution_count": 13,
     "metadata": {},
     "output_type": "execute_result"
    }
   ],
   "source": [
    "from bioinfokit.analys import norm, get_data\n",
    "# load sugarcane RNA-seq expression dataset (Published in Bedre et al., 2019)\n",
    "df = get_data('sc_exp').data\n",
    "df.head(2)\n"
   ]
  },
  {
   "cell_type": "code",
   "execution_count": 14,
   "id": "03349a0b",
   "metadata": {},
   "outputs": [],
   "source": [
    "# make gene column as index column\n",
    "df = df.set_index('gene')\n"
   ]
  },
  {
   "cell_type": "code",
   "execution_count": 15,
   "id": "594a0de9",
   "metadata": {},
   "outputs": [
    {
     "data": {
      "text/html": [
       "<div>\n",
       "<style scoped>\n",
       "    .dataframe tbody tr th:only-of-type {\n",
       "        vertical-align: middle;\n",
       "    }\n",
       "\n",
       "    .dataframe tbody tr th {\n",
       "        vertical-align: top;\n",
       "    }\n",
       "\n",
       "    .dataframe thead th {\n",
       "        text-align: right;\n",
       "    }\n",
       "</style>\n",
       "<table border=\"1\" class=\"dataframe\">\n",
       "  <thead>\n",
       "    <tr style=\"text-align: right;\">\n",
       "      <th></th>\n",
       "      <th>ctr1</th>\n",
       "      <th>ctr2</th>\n",
       "      <th>ctr3</th>\n",
       "      <th>trt1</th>\n",
       "      <th>trt2</th>\n",
       "      <th>trt3</th>\n",
       "    </tr>\n",
       "    <tr>\n",
       "      <th>gene</th>\n",
       "      <th></th>\n",
       "      <th></th>\n",
       "      <th></th>\n",
       "      <th></th>\n",
       "      <th></th>\n",
       "      <th></th>\n",
       "    </tr>\n",
       "  </thead>\n",
       "  <tbody>\n",
       "    <tr>\n",
       "      <th>Sobic.001G000200</th>\n",
       "      <td>99.730156</td>\n",
       "      <td>97.641941</td>\n",
       "      <td>72.361658</td>\n",
       "      <td>89.606265</td>\n",
       "      <td>69.447237</td>\n",
       "      <td>90.643338</td>\n",
       "    </tr>\n",
       "    <tr>\n",
       "      <th>Sobic.001G000400</th>\n",
       "      <td>6.008723</td>\n",
       "      <td>2.630189</td>\n",
       "      <td>6.479263</td>\n",
       "      <td>2.047584</td>\n",
       "      <td>2.286125</td>\n",
       "      <td>2.466582</td>\n",
       "    </tr>\n",
       "  </tbody>\n",
       "</table>\n",
       "</div>"
      ],
      "text/plain": [
       "                       ctr1       ctr2       ctr3       trt1       trt2  \\\n",
       "gene                                                                      \n",
       "Sobic.001G000200  99.730156  97.641941  72.361658  89.606265  69.447237   \n",
       "Sobic.001G000400   6.008723   2.630189   6.479263   2.047584   2.286125   \n",
       "\n",
       "                       trt3  \n",
       "gene                         \n",
       "Sobic.001G000200  90.643338  \n",
       "Sobic.001G000400   2.466582  "
      ]
     },
     "execution_count": 15,
     "metadata": {},
     "output_type": "execute_result"
    }
   ],
   "source": [
    "# now, normalize raw counts using TPM method\n",
    "# gene length must be in bp\n",
    "nm = norm()\n",
    "nm.tpm(df=df, gl='length')\n",
    "# get TPM normalized dataframe\n",
    "tpm_df = nm.tpm_norm\n",
    "tpm_df.head(2)\n"
   ]
  },
  {
   "cell_type": "markdown",
   "id": "ba4603ba",
   "metadata": {},
   "source": [
    "**TMM (Trimmed Mean of M-values)**\n",
    "\n",
    "TMM is a between-sample normalization method in contrast to within-sample normalization methods (RPM, RPKM/FPKM, or TPM)\n",
    "\n",
    "TMM normalization method assumes that most of the genes are not differentially expressed\n",
    "TMM normalize the total RNA output among the samples and does not consider gene length or library size for normalization.\n",
    "TMM considers sample RNA population and effective in normalization of samples with diverse RNA repertoires (e.g. samples from different tissues). TMM will be good choice to remove the batch effects while comparing the samples from different tissues or genotypes or in cases where RNA population would be significantly different among the samples.\n",
    "To calculate TMM,\n",
    "get the library size normalized read count for each gene in each sample\n",
    "calculate the log2 fold change between the two samples (M value)\n",
    "get absolute expression count (A value)\n",
    "\n",
    "Now, double trim the upper and lower percentages of the data (trim M values by 30% and A values by 5%)\n",
    "Get weighted mean of M after trimming and calculate normalization factor.\n",
    "\n",
    "TMM is implemented in edgeR and performs better for between-samples comparisons\n",
    "edgeR does not consider gene length for normalization as it assumes that the gene length would be constant between the samples.\n",
    "\n"
   ]
  },
  {
   "cell_type": "code",
   "execution_count": 1,
   "id": "85779ba7",
   "metadata": {},
   "outputs": [
    {
     "name": "stderr",
     "output_type": "stream",
     "text": [
      "Loading required package: limma\n",
      "\n"
     ]
    },
    {
     "data": {
      "text/html": [
       "<table class=\"dataframe\">\n",
       "<caption>A data.frame: 6 × 6</caption>\n",
       "<thead>\n",
       "\t<tr><th></th><th scope=col>ctr1</th><th scope=col>ctr2</th><th scope=col>ctr3</th><th scope=col>trt1</th><th scope=col>trt2</th><th scope=col>trt3</th></tr>\n",
       "\t<tr><th></th><th scope=col>&lt;int&gt;</th><th scope=col>&lt;int&gt;</th><th scope=col>&lt;int&gt;</th><th scope=col>&lt;int&gt;</th><th scope=col>&lt;int&gt;</th><th scope=col>&lt;int&gt;</th></tr>\n",
       "</thead>\n",
       "<tbody>\n",
       "\t<tr><th scope=row>Sobic.001G000200</th><td>338</td><td>324</td><td>246</td><td>291</td><td>202</td><td>168</td></tr>\n",
       "\t<tr><th scope=row>Sobic.001G000400</th><td> 49</td><td> 21</td><td> 53</td><td> 16</td><td> 16</td><td> 11</td></tr>\n",
       "\t<tr><th scope=row>Sobic.001G000700</th><td> 39</td><td> 49</td><td> 30</td><td> 46</td><td> 52</td><td> 25</td></tr>\n",
       "\t<tr><th scope=row>Sobic.001G000800</th><td>530</td><td>530</td><td>499</td><td>499</td><td>386</td><td>264</td></tr>\n",
       "\t<tr><th scope=row>Sobic.001G001000</th><td> 12</td><td>  3</td><td>  4</td><td>  3</td><td> 10</td><td>  7</td></tr>\n",
       "\t<tr><th scope=row>Sobic.001G001132</th><td>  4</td><td>  2</td><td>  2</td><td>  3</td><td>  4</td><td>  1</td></tr>\n",
       "</tbody>\n",
       "</table>\n"
      ],
      "text/latex": [
       "A data.frame: 6 × 6\n",
       "\\begin{tabular}{r|llllll}\n",
       "  & ctr1 & ctr2 & ctr3 & trt1 & trt2 & trt3\\\\\n",
       "  & <int> & <int> & <int> & <int> & <int> & <int>\\\\\n",
       "\\hline\n",
       "\tSobic.001G000200 & 338 & 324 & 246 & 291 & 202 & 168\\\\\n",
       "\tSobic.001G000400 &  49 &  21 &  53 &  16 &  16 &  11\\\\\n",
       "\tSobic.001G000700 &  39 &  49 &  30 &  46 &  52 &  25\\\\\n",
       "\tSobic.001G000800 & 530 & 530 & 499 & 499 & 386 & 264\\\\\n",
       "\tSobic.001G001000 &  12 &   3 &   4 &   3 &  10 &   7\\\\\n",
       "\tSobic.001G001132 &   4 &   2 &   2 &   3 &   4 &   1\\\\\n",
       "\\end{tabular}\n"
      ],
      "text/markdown": [
       "\n",
       "A data.frame: 6 × 6\n",
       "\n",
       "| <!--/--> | ctr1 &lt;int&gt; | ctr2 &lt;int&gt; | ctr3 &lt;int&gt; | trt1 &lt;int&gt; | trt2 &lt;int&gt; | trt3 &lt;int&gt; |\n",
       "|---|---|---|---|---|---|---|\n",
       "| Sobic.001G000200 | 338 | 324 | 246 | 291 | 202 | 168 |\n",
       "| Sobic.001G000400 |  49 |  21 |  53 |  16 |  16 |  11 |\n",
       "| Sobic.001G000700 |  39 |  49 |  30 |  46 |  52 |  25 |\n",
       "| Sobic.001G000800 | 530 | 530 | 499 | 499 | 386 | 264 |\n",
       "| Sobic.001G001000 |  12 |   3 |   4 |   3 |  10 |   7 |\n",
       "| Sobic.001G001132 |   4 |   2 |   2 |   3 |   4 |   1 |\n",
       "\n"
      ],
      "text/plain": [
       "                 ctr1 ctr2 ctr3 trt1 trt2 trt3\n",
       "Sobic.001G000200 338  324  246  291  202  168 \n",
       "Sobic.001G000400  49   21   53   16   16   11 \n",
       "Sobic.001G000700  39   49   30   46   52   25 \n",
       "Sobic.001G000800 530  530  499  499  386  264 \n",
       "Sobic.001G001000  12    3    4    3   10    7 \n",
       "Sobic.001G001132   4    2    2    3    4    1 "
      ]
     },
     "metadata": {},
     "output_type": "display_data"
    }
   ],
   "source": [
    "# load library\n",
    "library(edgeR)\n",
    "x <- read.csv(\"https://reneshbedre.github.io/assets/posts/gexp/df_sc.csv\",row.names=\"gene\")\n",
    "# delete last column (gene length column)\n",
    "x <- x[,-7]\n",
    "head(x)\n"
   ]
  },
  {
   "cell_type": "code",
   "execution_count": 2,
   "id": "4e4222e9",
   "metadata": {},
   "outputs": [
    {
     "data": {
      "text/html": [
       "<table class=\"dataframe\">\n",
       "<caption>A data.frame: 6 × 3</caption>\n",
       "<thead>\n",
       "\t<tr><th></th><th scope=col>group</th><th scope=col>lib.size</th><th scope=col>norm.factors</th></tr>\n",
       "\t<tr><th></th><th scope=col>&lt;fct&gt;</th><th scope=col>&lt;dbl&gt;</th><th scope=col>&lt;dbl&gt;</th></tr>\n",
       "</thead>\n",
       "<tbody>\n",
       "\t<tr><th scope=row>ctr1</th><td>c</td><td>3356671</td><td>1.0289664</td></tr>\n",
       "\t<tr><th scope=row>ctr2</th><td>c</td><td>3184864</td><td>0.9919562</td></tr>\n",
       "\t<tr><th scope=row>ctr3</th><td>c</td><td>3292243</td><td>1.0479464</td></tr>\n",
       "\t<tr><th scope=row>trt1</th><td>t</td><td>3141401</td><td>0.9651375</td></tr>\n",
       "\t<tr><th scope=row>trt2</th><td>t</td><td>2719780</td><td>0.9819645</td></tr>\n",
       "\t<tr><th scope=row>trt3</th><td>t</td><td>1762582</td><td>0.9864663</td></tr>\n",
       "</tbody>\n",
       "</table>\n"
      ],
      "text/latex": [
       "A data.frame: 6 × 3\n",
       "\\begin{tabular}{r|lll}\n",
       "  & group & lib.size & norm.factors\\\\\n",
       "  & <fct> & <dbl> & <dbl>\\\\\n",
       "\\hline\n",
       "\tctr1 & c & 3356671 & 1.0289664\\\\\n",
       "\tctr2 & c & 3184864 & 0.9919562\\\\\n",
       "\tctr3 & c & 3292243 & 1.0479464\\\\\n",
       "\ttrt1 & t & 3141401 & 0.9651375\\\\\n",
       "\ttrt2 & t & 2719780 & 0.9819645\\\\\n",
       "\ttrt3 & t & 1762582 & 0.9864663\\\\\n",
       "\\end{tabular}\n"
      ],
      "text/markdown": [
       "\n",
       "A data.frame: 6 × 3\n",
       "\n",
       "| <!--/--> | group &lt;fct&gt; | lib.size &lt;dbl&gt; | norm.factors &lt;dbl&gt; |\n",
       "|---|---|---|---|\n",
       "| ctr1 | c | 3356671 | 1.0289664 |\n",
       "| ctr2 | c | 3184864 | 0.9919562 |\n",
       "| ctr3 | c | 3292243 | 1.0479464 |\n",
       "| trt1 | t | 3141401 | 0.9651375 |\n",
       "| trt2 | t | 2719780 | 0.9819645 |\n",
       "| trt3 | t | 1762582 | 0.9864663 |\n",
       "\n"
      ],
      "text/plain": [
       "     group lib.size norm.factors\n",
       "ctr1 c     3356671  1.0289664   \n",
       "ctr2 c     3184864  0.9919562   \n",
       "ctr3 c     3292243  1.0479464   \n",
       "trt1 t     3141401  0.9651375   \n",
       "trt2 t     2719780  0.9819645   \n",
       "trt3 t     1762582  0.9864663   "
      ]
     },
     "metadata": {},
     "output_type": "display_data"
    }
   ],
   "source": [
    "group <- factor(c('c','c', 'c', 't', 't', 't'))\n",
    "y <- DGEList(counts=x, group=group)\n",
    "# normalize for library size by cacluating scaling factor using TMM (default method)\n",
    "y <- calcNormFactors(y)\n",
    "# normalization factors for each library\n",
    "y$samples\n"
   ]
  },
  {
   "cell_type": "code",
   "execution_count": 3,
   "id": "e22b937a",
   "metadata": {},
   "outputs": [
    {
     "data": {
      "text/html": [
       "<table class=\"dataframe\">\n",
       "<caption>A matrix: 6 × 6 of type dbl</caption>\n",
       "<thead>\n",
       "\t<tr><th></th><th scope=col>ctr1</th><th scope=col>ctr2</th><th scope=col>ctr3</th><th scope=col>trt1</th><th scope=col>trt2</th><th scope=col>trt3</th></tr>\n",
       "</thead>\n",
       "<tbody>\n",
       "\t<tr><th scope=row>Sobic.001G000200</th><td> 97.860339</td><td>102.5561297</td><td> 71.3023988</td><td> 95.9799323</td><td> 75.634827</td><td> 96.6223700</td></tr>\n",
       "\t<tr><th scope=row>Sobic.001G000400</th><td> 14.186854</td><td>  6.6471566</td><td> 15.3618989</td><td>  5.2772471</td><td>  5.990877</td><td>  6.3264647</td></tr>\n",
       "\t<tr><th scope=row>Sobic.001G000700</th><td> 11.291578</td><td> 15.5100320</td><td>  8.6954145</td><td> 15.1720855</td><td> 19.470352</td><td> 14.3783289</td></tr>\n",
       "\t<tr><th scope=row>Sobic.001G000800</th><td>153.449643</td><td>167.7615701</td><td>144.6337277</td><td>164.5841451</td><td>144.529917</td><td>151.8351528</td></tr>\n",
       "\t<tr><th scope=row>Sobic.001G001000</th><td>  3.474332</td><td>  0.9495938</td><td>  1.1593886</td><td>  0.9894838</td><td>  3.744298</td><td>  4.0259321</td></tr>\n",
       "\t<tr><th scope=row>Sobic.001G001132</th><td>  1.158111</td><td>  0.6330625</td><td>  0.5796943</td><td>  0.9894838</td><td>  1.497719</td><td>  0.5751332</td></tr>\n",
       "</tbody>\n",
       "</table>\n"
      ],
      "text/latex": [
       "A matrix: 6 × 6 of type dbl\n",
       "\\begin{tabular}{r|llllll}\n",
       "  & ctr1 & ctr2 & ctr3 & trt1 & trt2 & trt3\\\\\n",
       "\\hline\n",
       "\tSobic.001G000200 &  97.860339 & 102.5561297 &  71.3023988 &  95.9799323 &  75.634827 &  96.6223700\\\\\n",
       "\tSobic.001G000400 &  14.186854 &   6.6471566 &  15.3618989 &   5.2772471 &   5.990877 &   6.3264647\\\\\n",
       "\tSobic.001G000700 &  11.291578 &  15.5100320 &   8.6954145 &  15.1720855 &  19.470352 &  14.3783289\\\\\n",
       "\tSobic.001G000800 & 153.449643 & 167.7615701 & 144.6337277 & 164.5841451 & 144.529917 & 151.8351528\\\\\n",
       "\tSobic.001G001000 &   3.474332 &   0.9495938 &   1.1593886 &   0.9894838 &   3.744298 &   4.0259321\\\\\n",
       "\tSobic.001G001132 &   1.158111 &   0.6330625 &   0.5796943 &   0.9894838 &   1.497719 &   0.5751332\\\\\n",
       "\\end{tabular}\n"
      ],
      "text/markdown": [
       "\n",
       "A matrix: 6 × 6 of type dbl\n",
       "\n",
       "| <!--/--> | ctr1 | ctr2 | ctr3 | trt1 | trt2 | trt3 |\n",
       "|---|---|---|---|---|---|---|\n",
       "| Sobic.001G000200 |  97.860339 | 102.5561297 |  71.3023988 |  95.9799323 |  75.634827 |  96.6223700 |\n",
       "| Sobic.001G000400 |  14.186854 |   6.6471566 |  15.3618989 |   5.2772471 |   5.990877 |   6.3264647 |\n",
       "| Sobic.001G000700 |  11.291578 |  15.5100320 |   8.6954145 |  15.1720855 |  19.470352 |  14.3783289 |\n",
       "| Sobic.001G000800 | 153.449643 | 167.7615701 | 144.6337277 | 164.5841451 | 144.529917 | 151.8351528 |\n",
       "| Sobic.001G001000 |   3.474332 |   0.9495938 |   1.1593886 |   0.9894838 |   3.744298 |   4.0259321 |\n",
       "| Sobic.001G001132 |   1.158111 |   0.6330625 |   0.5796943 |   0.9894838 |   1.497719 |   0.5751332 |\n",
       "\n"
      ],
      "text/plain": [
       "                 ctr1       ctr2        ctr3        trt1        trt2      \n",
       "Sobic.001G000200  97.860339 102.5561297  71.3023988  95.9799323  75.634827\n",
       "Sobic.001G000400  14.186854   6.6471566  15.3618989   5.2772471   5.990877\n",
       "Sobic.001G000700  11.291578  15.5100320   8.6954145  15.1720855  19.470352\n",
       "Sobic.001G000800 153.449643 167.7615701 144.6337277 164.5841451 144.529917\n",
       "Sobic.001G001000   3.474332   0.9495938   1.1593886   0.9894838   3.744298\n",
       "Sobic.001G001132   1.158111   0.6330625   0.5796943   0.9894838   1.497719\n",
       "                 trt3       \n",
       "Sobic.001G000200  96.6223700\n",
       "Sobic.001G000400   6.3264647\n",
       "Sobic.001G000700  14.3783289\n",
       "Sobic.001G000800 151.8351528\n",
       "Sobic.001G001000   4.0259321\n",
       "Sobic.001G001132   0.5751332"
      ]
     },
     "metadata": {},
     "output_type": "display_data"
    }
   ],
   "source": [
    "# count per million read (normalized count)\n",
    "norm_counts <- cpm(y)\n",
    "head(norm_counts)    \n"
   ]
  },
  {
   "cell_type": "markdown",
   "id": "8368b0e3",
   "metadata": {},
   "source": [
    "**DESeq or DESeq2 normalization (median-of-ratios method)**\n"
   ]
  },
  {
   "cell_type": "markdown",
   "id": "85db583f",
   "metadata": {},
   "source": [
    "DESeq2 requires raw counts (not normalized) as integer values for differential expression analysis. If you have expected counts from RSEM, it is recommended to use tximport to import the counts and then to use DESeqDataSetFromTximport() for performing differential expression analysis using DESeq2. In addition, you can also round the expected counts from RSEM but it does not offer the benefits of tximport such as normalization of transcript lengths per gene for gene-level expression analysis."
   ]
  },
  {
   "cell_type": "code",
   "execution_count": 9,
   "id": "355c0c4b",
   "metadata": {},
   "outputs": [
    {
     "name": "stderr",
     "output_type": "stream",
     "text": [
      "Warning message:\n",
      "“package ‘DESeq2’ was built under R version 4.3.3”\n",
      "Loading required package: S4Vectors\n",
      "\n",
      "Loading required package: stats4\n",
      "\n",
      "Loading required package: BiocGenerics\n",
      "\n",
      "\n",
      "Attaching package: ‘BiocGenerics’\n",
      "\n",
      "\n",
      "The following object is masked from ‘package:limma’:\n",
      "\n",
      "    plotMA\n",
      "\n",
      "\n",
      "The following objects are masked from ‘package:stats’:\n",
      "\n",
      "    IQR, mad, sd, var, xtabs\n",
      "\n",
      "\n",
      "The following objects are masked from ‘package:base’:\n",
      "\n",
      "    anyDuplicated, aperm, append, as.data.frame, basename, cbind,\n",
      "    colnames, dirname, do.call, duplicated, eval, evalq, Filter, Find,\n",
      "    get, grep, grepl, intersect, is.unsorted, lapply, Map, mapply,\n",
      "    match, mget, order, paste, pmax, pmax.int, pmin, pmin.int,\n",
      "    Position, rank, rbind, Reduce, rownames, sapply, setdiff, sort,\n",
      "    table, tapply, union, unique, unsplit, which.max, which.min\n",
      "\n",
      "\n",
      "\n",
      "Attaching package: ‘S4Vectors’\n",
      "\n",
      "\n",
      "The following object is masked from ‘package:utils’:\n",
      "\n",
      "    findMatches\n",
      "\n",
      "\n",
      "The following objects are masked from ‘package:base’:\n",
      "\n",
      "    expand.grid, I, unname\n",
      "\n",
      "\n",
      "Loading required package: IRanges\n",
      "\n",
      "Loading required package: GenomicRanges\n",
      "\n",
      "Loading required package: GenomeInfoDb\n",
      "\n",
      "Warning message:\n",
      "“package ‘GenomeInfoDb’ was built under R version 4.3.3”\n",
      "Loading required package: SummarizedExperiment\n",
      "\n",
      "Loading required package: MatrixGenerics\n",
      "\n",
      "Loading required package: matrixStats\n",
      "\n",
      "\n",
      "Attaching package: ‘MatrixGenerics’\n",
      "\n",
      "\n",
      "The following objects are masked from ‘package:matrixStats’:\n",
      "\n",
      "    colAlls, colAnyNAs, colAnys, colAvgsPerRowSet, colCollapse,\n",
      "    colCounts, colCummaxs, colCummins, colCumprods, colCumsums,\n",
      "    colDiffs, colIQRDiffs, colIQRs, colLogSumExps, colMadDiffs,\n",
      "    colMads, colMaxs, colMeans2, colMedians, colMins, colOrderStats,\n",
      "    colProds, colQuantiles, colRanges, colRanks, colSdDiffs, colSds,\n",
      "    colSums2, colTabulates, colVarDiffs, colVars, colWeightedMads,\n",
      "    colWeightedMeans, colWeightedMedians, colWeightedSds,\n",
      "    colWeightedVars, rowAlls, rowAnyNAs, rowAnys, rowAvgsPerColSet,\n",
      "    rowCollapse, rowCounts, rowCummaxs, rowCummins, rowCumprods,\n",
      "    rowCumsums, rowDiffs, rowIQRDiffs, rowIQRs, rowLogSumExps,\n",
      "    rowMadDiffs, rowMads, rowMaxs, rowMeans2, rowMedians, rowMins,\n",
      "    rowOrderStats, rowProds, rowQuantiles, rowRanges, rowRanks,\n",
      "    rowSdDiffs, rowSds, rowSums2, rowTabulates, rowVarDiffs, rowVars,\n",
      "    rowWeightedMads, rowWeightedMeans, rowWeightedMedians,\n",
      "    rowWeightedSds, rowWeightedVars\n",
      "\n",
      "\n",
      "Loading required package: Biobase\n",
      "\n",
      "Welcome to Bioconductor\n",
      "\n",
      "    Vignettes contain introductory material; view with\n",
      "    'browseVignettes()'. To cite Bioconductor, see\n",
      "    'citation(\"Biobase\")', and for packages 'citation(\"pkgname\")'.\n",
      "\n",
      "\n",
      "\n",
      "Attaching package: ‘Biobase’\n",
      "\n",
      "\n",
      "The following object is masked from ‘package:MatrixGenerics’:\n",
      "\n",
      "    rowMedians\n",
      "\n",
      "\n",
      "The following objects are masked from ‘package:matrixStats’:\n",
      "\n",
      "    anyMissing, rowMedians\n",
      "\n",
      "\n"
     ]
    },
    {
     "data": {
      "text/html": [
       "<table class=\"dataframe\">\n",
       "<caption>A data.frame: 6 × 6</caption>\n",
       "<thead>\n",
       "\t<tr><th></th><th scope=col>ctr1</th><th scope=col>ctr2</th><th scope=col>ctr3</th><th scope=col>trt1</th><th scope=col>trt2</th><th scope=col>trt3</th></tr>\n",
       "\t<tr><th></th><th scope=col>&lt;int&gt;</th><th scope=col>&lt;int&gt;</th><th scope=col>&lt;int&gt;</th><th scope=col>&lt;int&gt;</th><th scope=col>&lt;int&gt;</th><th scope=col>&lt;int&gt;</th></tr>\n",
       "</thead>\n",
       "<tbody>\n",
       "\t<tr><th scope=row>Sobic.001G000200</th><td>338</td><td>324</td><td>246</td><td>291</td><td>202</td><td>168</td></tr>\n",
       "\t<tr><th scope=row>Sobic.001G000400</th><td> 49</td><td> 21</td><td> 53</td><td> 16</td><td> 16</td><td> 11</td></tr>\n",
       "\t<tr><th scope=row>Sobic.001G000700</th><td> 39</td><td> 49</td><td> 30</td><td> 46</td><td> 52</td><td> 25</td></tr>\n",
       "\t<tr><th scope=row>Sobic.001G000800</th><td>530</td><td>530</td><td>499</td><td>499</td><td>386</td><td>264</td></tr>\n",
       "\t<tr><th scope=row>Sobic.001G001000</th><td> 12</td><td>  3</td><td>  4</td><td>  3</td><td> 10</td><td>  7</td></tr>\n",
       "\t<tr><th scope=row>Sobic.001G001132</th><td>  4</td><td>  2</td><td>  2</td><td>  3</td><td>  4</td><td>  1</td></tr>\n",
       "</tbody>\n",
       "</table>\n"
      ],
      "text/latex": [
       "A data.frame: 6 × 6\n",
       "\\begin{tabular}{r|llllll}\n",
       "  & ctr1 & ctr2 & ctr3 & trt1 & trt2 & trt3\\\\\n",
       "  & <int> & <int> & <int> & <int> & <int> & <int>\\\\\n",
       "\\hline\n",
       "\tSobic.001G000200 & 338 & 324 & 246 & 291 & 202 & 168\\\\\n",
       "\tSobic.001G000400 &  49 &  21 &  53 &  16 &  16 &  11\\\\\n",
       "\tSobic.001G000700 &  39 &  49 &  30 &  46 &  52 &  25\\\\\n",
       "\tSobic.001G000800 & 530 & 530 & 499 & 499 & 386 & 264\\\\\n",
       "\tSobic.001G001000 &  12 &   3 &   4 &   3 &  10 &   7\\\\\n",
       "\tSobic.001G001132 &   4 &   2 &   2 &   3 &   4 &   1\\\\\n",
       "\\end{tabular}\n"
      ],
      "text/markdown": [
       "\n",
       "A data.frame: 6 × 6\n",
       "\n",
       "| <!--/--> | ctr1 &lt;int&gt; | ctr2 &lt;int&gt; | ctr3 &lt;int&gt; | trt1 &lt;int&gt; | trt2 &lt;int&gt; | trt3 &lt;int&gt; |\n",
       "|---|---|---|---|---|---|---|\n",
       "| Sobic.001G000200 | 338 | 324 | 246 | 291 | 202 | 168 |\n",
       "| Sobic.001G000400 |  49 |  21 |  53 |  16 |  16 |  11 |\n",
       "| Sobic.001G000700 |  39 |  49 |  30 |  46 |  52 |  25 |\n",
       "| Sobic.001G000800 | 530 | 530 | 499 | 499 | 386 | 264 |\n",
       "| Sobic.001G001000 |  12 |   3 |   4 |   3 |  10 |   7 |\n",
       "| Sobic.001G001132 |   4 |   2 |   2 |   3 |   4 |   1 |\n",
       "\n"
      ],
      "text/plain": [
       "                 ctr1 ctr2 ctr3 trt1 trt2 trt3\n",
       "Sobic.001G000200 338  324  246  291  202  168 \n",
       "Sobic.001G000400  49   21   53   16   16   11 \n",
       "Sobic.001G000700  39   49   30   46   52   25 \n",
       "Sobic.001G000800 530  530  499  499  386  264 \n",
       "Sobic.001G001000  12    3    4    3   10    7 \n",
       "Sobic.001G001132   4    2    2    3    4    1 "
      ]
     },
     "metadata": {},
     "output_type": "display_data"
    }
   ],
   "source": [
    "# load library\n",
    "library(DESeq2)\n",
    "x <- read.csv(\"https://reneshbedre.github.io/assets/posts/gexp/df_sc.csv\",row.names=\"gene\")\n",
    "cond <- read.csv(\"https://reneshbedre.github.io/assets/posts/gexp/condition.csv\",row.names=\"sample\")\n",
    "cond$condition <- factor(cond$condition)\n",
    "# keep only required columns present in the sample information table\n",
    "x <- x[, rownames(cond)]\n",
    "head(x)\n"
   ]
  },
  {
   "cell_type": "code",
   "execution_count": 8,
   "id": "6398aebd-8985-49a5-8813-ef4109f5a722",
   "metadata": {},
   "outputs": [
    {
     "name": "stderr",
     "output_type": "stream",
     "text": [
      "'getOption(\"repos\")' replaces Bioconductor standard repositories, see\n",
      "'help(\"repositories\", package = \"BiocManager\")' for details.\n",
      "Replacement repositories:\n",
      "    CRAN: https://cran.r-project.org\n",
      "\n",
      "Bioconductor version 3.18 (BiocManager 1.30.23), R 4.3.2 (2023-10-31)\n",
      "\n",
      "Installing package(s) 'DESeq2'\n",
      "\n"
     ]
    },
    {
     "name": "stdout",
     "output_type": "stream",
     "text": [
      "\n",
      "The downloaded binary packages are in\n",
      "\t/var/folders/3f/6pzn2nyn32d7wthyxkzsqyxcdrtvym/T//Rtmpp6YezD/downloaded_packages\n"
     ]
    },
    {
     "name": "stderr",
     "output_type": "stream",
     "text": [
      "Old packages: 'admisc', 'arm', 'brms', 'broom.mixed', 'clusterProfiler',\n",
      "  'codetools', 'datawizard', 'DBI', 'dunn.test', 'effectsize', 'emmeans',\n",
      "  'estimability', 'FactoMineR', 'future', 'future.apply', 'geepack',\n",
      "  'ggeffects', 'ggfortify', 'ggfun', 'glmmTMB', 'hardhat', 'Hmisc', 'insight',\n",
      "  'ivreg', 'knitr', 'markdown', 'mclust', 'mlbench', 'mvtnorm', 'parameters',\n",
      "  'performance', 'QuickJSR', 'RcppArmadillo', 'repr', 'scatterpie',\n",
      "  'seriation', 'sjmisc', 'sjPlot', 'sjstats', 'SparseM', 'StanHeaders',\n",
      "  'StatMatch', 'StepReg', 'STRINGdb', 'TMB', 'VGAM', 'WriteXLS', 'xts', 'brio',\n",
      "  'bslib', 'cachem', 'callr', 'dbplyr', 'digest', 'fastmap', 'fs', 'gh',\n",
      "  'highr', 'htmltools', 'httpuv', 'httr2', 'KernSmooth', 'lattice', 'nlme',\n",
      "  'openssl', 'pkgbuild', 'pkgdown', 'processx', 'promises', 'ragg', 'rlang',\n",
      "  'rmarkdown', 'rstudioapi', 'sass', 'shiny', 'stringi', 'survival',\n",
      "  'systemfonts', 'testthat', 'textshaping', 'tinytex', 'xfun', 'xopen'\n",
      "\n"
     ]
    }
   ],
   "source": [
    "#BiocManager::install(\"DESeq2\")\n"
   ]
  },
  {
   "cell_type": "code",
   "execution_count": 10,
   "id": "bdfcd1d1",
   "metadata": {},
   "outputs": [
    {
     "data": {
      "text/html": [
       "<table class=\"dataframe\">\n",
       "<caption>A matrix: 6 × 6 of type dbl</caption>\n",
       "<thead>\n",
       "\t<tr><th></th><th scope=col>ctr1</th><th scope=col>ctr2</th><th scope=col>ctr3</th><th scope=col>trt1</th><th scope=col>trt2</th><th scope=col>trt3</th></tr>\n",
       "</thead>\n",
       "<tbody>\n",
       "\t<tr><th scope=row>Sobic.001G000200</th><td>272.483741</td><td>290.412982</td><td>199.133348</td><td>272.915069</td><td>211.917896</td><td>271.037655</td></tr>\n",
       "\t<tr><th scope=row>Sobic.001G000400</th><td> 39.502081</td><td> 18.823064</td><td> 42.902713</td><td> 15.005640</td><td> 16.785576</td><td> 17.746513</td></tr>\n",
       "\t<tr><th scope=row>Sobic.001G000700</th><td> 31.440432</td><td> 43.920482</td><td> 24.284555</td><td> 43.141214</td><td> 54.553122</td><td> 40.332984</td></tr>\n",
       "\t<tr><th scope=row>Sobic.001G000800</th><td>427.267404</td><td>475.058273</td><td>403.933092</td><td>467.988384</td><td>404.952020</td><td>425.916314</td></tr>\n",
       "\t<tr><th scope=row>Sobic.001G001000</th><td>  9.673979</td><td>  2.689009</td><td>  3.237941</td><td>  2.813557</td><td> 10.490985</td><td> 11.293236</td></tr>\n",
       "\t<tr><th scope=row>Sobic.001G001132</th><td>  3.224660</td><td>  1.792673</td><td>  1.618970</td><td>  2.813557</td><td>  4.196394</td><td>  1.613319</td></tr>\n",
       "</tbody>\n",
       "</table>\n"
      ],
      "text/latex": [
       "A matrix: 6 × 6 of type dbl\n",
       "\\begin{tabular}{r|llllll}\n",
       "  & ctr1 & ctr2 & ctr3 & trt1 & trt2 & trt3\\\\\n",
       "\\hline\n",
       "\tSobic.001G000200 & 272.483741 & 290.412982 & 199.133348 & 272.915069 & 211.917896 & 271.037655\\\\\n",
       "\tSobic.001G000400 &  39.502081 &  18.823064 &  42.902713 &  15.005640 &  16.785576 &  17.746513\\\\\n",
       "\tSobic.001G000700 &  31.440432 &  43.920482 &  24.284555 &  43.141214 &  54.553122 &  40.332984\\\\\n",
       "\tSobic.001G000800 & 427.267404 & 475.058273 & 403.933092 & 467.988384 & 404.952020 & 425.916314\\\\\n",
       "\tSobic.001G001000 &   9.673979 &   2.689009 &   3.237941 &   2.813557 &  10.490985 &  11.293236\\\\\n",
       "\tSobic.001G001132 &   3.224660 &   1.792673 &   1.618970 &   2.813557 &   4.196394 &   1.613319\\\\\n",
       "\\end{tabular}\n"
      ],
      "text/markdown": [
       "\n",
       "A matrix: 6 × 6 of type dbl\n",
       "\n",
       "| <!--/--> | ctr1 | ctr2 | ctr3 | trt1 | trt2 | trt3 |\n",
       "|---|---|---|---|---|---|---|\n",
       "| Sobic.001G000200 | 272.483741 | 290.412982 | 199.133348 | 272.915069 | 211.917896 | 271.037655 |\n",
       "| Sobic.001G000400 |  39.502081 |  18.823064 |  42.902713 |  15.005640 |  16.785576 |  17.746513 |\n",
       "| Sobic.001G000700 |  31.440432 |  43.920482 |  24.284555 |  43.141214 |  54.553122 |  40.332984 |\n",
       "| Sobic.001G000800 | 427.267404 | 475.058273 | 403.933092 | 467.988384 | 404.952020 | 425.916314 |\n",
       "| Sobic.001G001000 |   9.673979 |   2.689009 |   3.237941 |   2.813557 |  10.490985 |  11.293236 |\n",
       "| Sobic.001G001132 |   3.224660 |   1.792673 |   1.618970 |   2.813557 |   4.196394 |   1.613319 |\n",
       "\n"
      ],
      "text/plain": [
       "                 ctr1       ctr2       ctr3       trt1       trt2      \n",
       "Sobic.001G000200 272.483741 290.412982 199.133348 272.915069 211.917896\n",
       "Sobic.001G000400  39.502081  18.823064  42.902713  15.005640  16.785576\n",
       "Sobic.001G000700  31.440432  43.920482  24.284555  43.141214  54.553122\n",
       "Sobic.001G000800 427.267404 475.058273 403.933092 467.988384 404.952020\n",
       "Sobic.001G001000   9.673979   2.689009   3.237941   2.813557  10.490985\n",
       "Sobic.001G001132   3.224660   1.792673   1.618970   2.813557   4.196394\n",
       "                 trt3      \n",
       "Sobic.001G000200 271.037655\n",
       "Sobic.001G000400  17.746513\n",
       "Sobic.001G000700  40.332984\n",
       "Sobic.001G000800 425.916314\n",
       "Sobic.001G001000  11.293236\n",
       "Sobic.001G001132   1.613319"
      ]
     },
     "metadata": {},
     "output_type": "display_data"
    }
   ],
   "source": [
    "# get dds\n",
    "dds <- DESeqDataSetFromMatrix(countData = x, colData = cond, design = ~ condition)\n",
    "dds <- estimateSizeFactors(dds)\n",
    "# DESeq2 normalization counts\n",
    "y = counts(dds, normalized = TRUE)\n",
    "head(y)\n"
   ]
  },
  {
   "cell_type": "code",
   "execution_count": 11,
   "id": "6a6af4f0",
   "metadata": {},
   "outputs": [
    {
     "data": {
      "text/html": [
       "<style>\n",
       ".dl-inline {width: auto; margin:0; padding: 0}\n",
       ".dl-inline>dt, .dl-inline>dd {float: none; width: auto; display: inline-block}\n",
       ".dl-inline>dt::after {content: \":\\0020\"; padding-right: .5ex}\n",
       ".dl-inline>dt:not(:first-of-type) {padding-left: .5ex}\n",
       "</style><dl class=dl-inline><dt>ctr1</dt><dd>1.24044098550488</dd><dt>ctr2</dt><dd>1.11565260465024</dd><dt>ctr3</dt><dd>1.23535310727487</dd><dt>trt1</dt><dd>1.06626578218558</dd><dt>trt2</dt><dd>0.953199344663757</dd><dt>trt3</dt><dd>0.619840074622936</dd></dl>\n"
      ],
      "text/latex": [
       "\\begin{description*}\n",
       "\\item[ctr1] 1.24044098550488\n",
       "\\item[ctr2] 1.11565260465024\n",
       "\\item[ctr3] 1.23535310727487\n",
       "\\item[trt1] 1.06626578218558\n",
       "\\item[trt2] 0.953199344663757\n",
       "\\item[trt3] 0.619840074622936\n",
       "\\end{description*}\n"
      ],
      "text/markdown": [
       "ctr1\n",
       ":   1.24044098550488ctr2\n",
       ":   1.11565260465024ctr3\n",
       ":   1.23535310727487trt1\n",
       ":   1.06626578218558trt2\n",
       ":   0.953199344663757trt3\n",
       ":   0.619840074622936\n",
       "\n"
      ],
      "text/plain": [
       "     ctr1      ctr2      ctr3      trt1      trt2      trt3 \n",
       "1.2404410 1.1156526 1.2353531 1.0662658 0.9531993 0.6198401 "
      ]
     },
     "metadata": {},
     "output_type": "display_data"
    }
   ],
   "source": [
    "# get size factors\n",
    "sizeFactors(dds)\n"
   ]
  },
  {
   "cell_type": "markdown",
   "id": "c4ba8361",
   "metadata": {},
   "source": [
    "**GeTMM method**\n"
   ]
  },
  {
   "cell_type": "code",
   "execution_count": 12,
   "id": "092cc171",
   "metadata": {},
   "outputs": [
    {
     "data": {
      "text/html": [
       "<table class=\"dataframe\">\n",
       "<caption>A data.frame: 6 × 3</caption>\n",
       "<thead>\n",
       "\t<tr><th></th><th scope=col>group</th><th scope=col>lib.size</th><th scope=col>norm.factors</th></tr>\n",
       "\t<tr><th></th><th scope=col>&lt;fct&gt;</th><th scope=col>&lt;dbl&gt;</th><th scope=col>&lt;dbl&gt;</th></tr>\n",
       "</thead>\n",
       "<tbody>\n",
       "\t<tr><th scope=row>ctr1</th><td>c</td><td>1709962.4</td><td>1.0768758</td></tr>\n",
       "\t<tr><th scope=row>ctr2</th><td>c</td><td>1674190.8</td><td>0.9843576</td></tr>\n",
       "\t<tr><th scope=row>ctr3</th><td>c</td><td>1715232.3</td><td>1.0497554</td></tr>\n",
       "\t<tr><th scope=row>trt1</th><td>t</td><td>1638517.0</td><td>0.9842029</td></tr>\n",
       "\t<tr><th scope=row>trt2</th><td>t</td><td>1467549.5</td><td>0.9432673</td></tr>\n",
       "\t<tr><th scope=row>trt3</th><td>t</td><td> 935125.2</td><td>0.9679969</td></tr>\n",
       "</tbody>\n",
       "</table>\n"
      ],
      "text/latex": [
       "A data.frame: 6 × 3\n",
       "\\begin{tabular}{r|lll}\n",
       "  & group & lib.size & norm.factors\\\\\n",
       "  & <fct> & <dbl> & <dbl>\\\\\n",
       "\\hline\n",
       "\tctr1 & c & 1709962.4 & 1.0768758\\\\\n",
       "\tctr2 & c & 1674190.8 & 0.9843576\\\\\n",
       "\tctr3 & c & 1715232.3 & 1.0497554\\\\\n",
       "\ttrt1 & t & 1638517.0 & 0.9842029\\\\\n",
       "\ttrt2 & t & 1467549.5 & 0.9432673\\\\\n",
       "\ttrt3 & t &  935125.2 & 0.9679969\\\\\n",
       "\\end{tabular}\n"
      ],
      "text/markdown": [
       "\n",
       "A data.frame: 6 × 3\n",
       "\n",
       "| <!--/--> | group &lt;fct&gt; | lib.size &lt;dbl&gt; | norm.factors &lt;dbl&gt; |\n",
       "|---|---|---|---|\n",
       "| ctr1 | c | 1709962.4 | 1.0768758 |\n",
       "| ctr2 | c | 1674190.8 | 0.9843576 |\n",
       "| ctr3 | c | 1715232.3 | 1.0497554 |\n",
       "| trt1 | t | 1638517.0 | 0.9842029 |\n",
       "| trt2 | t | 1467549.5 | 0.9432673 |\n",
       "| trt3 | t |  935125.2 | 0.9679969 |\n",
       "\n"
      ],
      "text/plain": [
       "     group lib.size  norm.factors\n",
       "ctr1 c     1709962.4 1.0768758   \n",
       "ctr2 c     1674190.8 0.9843576   \n",
       "ctr3 c     1715232.3 1.0497554   \n",
       "trt1 t     1638517.0 0.9842029   \n",
       "trt2 t     1467549.5 0.9432673   \n",
       "trt3 t      935125.2 0.9679969   "
      ]
     },
     "metadata": {},
     "output_type": "display_data"
    },
    {
     "data": {
      "text/html": [
       "<table class=\"dataframe\">\n",
       "<caption>A matrix: 6 × 6 of type dbl</caption>\n",
       "<thead>\n",
       "\t<tr><th></th><th scope=col>ctr1</th><th scope=col>ctr2</th><th scope=col>ctr3</th><th scope=col>trt1</th><th scope=col>trt2</th><th scope=col>trt3</th></tr>\n",
       "</thead>\n",
       "<tbody>\n",
       "\t<tr><th scope=row>Sobic.001G000200</th><td>92.610641</td><td>99.193569</td><td>68.931922</td><td>91.044504</td><td>73.624134</td><td>93.640111</td></tr>\n",
       "\t<tr><th scope=row>Sobic.001G000400</th><td> 5.579774</td><td> 2.671986</td><td> 6.172164</td><td> 2.080449</td><td> 2.423623</td><td> 2.548130</td></tr>\n",
       "\t<tr><th scope=row>Sobic.001G000700</th><td>19.324217</td><td>27.128619</td><td>15.201962</td><td>26.026254</td><td>34.274038</td><td>25.199141</td></tr>\n",
       "\t<tr><th scope=row>Sobic.001G000800</th><td>74.411018</td><td>83.144124</td><td>71.647825</td><td>79.997879</td><td>72.089717</td><td>75.400417</td></tr>\n",
       "\t<tr><th scope=row>Sobic.001G001000</th><td> 9.283077</td><td> 2.593142</td><td> 3.164549</td><td> 2.650016</td><td>10.290474</td><td>11.015830</td></tr>\n",
       "\t<tr><th scope=row>Sobic.001G001132</th><td> 7.464743</td><td> 4.170414</td><td> 3.817033</td><td> 6.392823</td><td> 9.929777</td><td> 3.796324</td></tr>\n",
       "</tbody>\n",
       "</table>\n"
      ],
      "text/latex": [
       "A matrix: 6 × 6 of type dbl\n",
       "\\begin{tabular}{r|llllll}\n",
       "  & ctr1 & ctr2 & ctr3 & trt1 & trt2 & trt3\\\\\n",
       "\\hline\n",
       "\tSobic.001G000200 & 92.610641 & 99.193569 & 68.931922 & 91.044504 & 73.624134 & 93.640111\\\\\n",
       "\tSobic.001G000400 &  5.579774 &  2.671986 &  6.172164 &  2.080449 &  2.423623 &  2.548130\\\\\n",
       "\tSobic.001G000700 & 19.324217 & 27.128619 & 15.201962 & 26.026254 & 34.274038 & 25.199141\\\\\n",
       "\tSobic.001G000800 & 74.411018 & 83.144124 & 71.647825 & 79.997879 & 72.089717 & 75.400417\\\\\n",
       "\tSobic.001G001000 &  9.283077 &  2.593142 &  3.164549 &  2.650016 & 10.290474 & 11.015830\\\\\n",
       "\tSobic.001G001132 &  7.464743 &  4.170414 &  3.817033 &  6.392823 &  9.929777 &  3.796324\\\\\n",
       "\\end{tabular}\n"
      ],
      "text/markdown": [
       "\n",
       "A matrix: 6 × 6 of type dbl\n",
       "\n",
       "| <!--/--> | ctr1 | ctr2 | ctr3 | trt1 | trt2 | trt3 |\n",
       "|---|---|---|---|---|---|---|\n",
       "| Sobic.001G000200 | 92.610641 | 99.193569 | 68.931922 | 91.044504 | 73.624134 | 93.640111 |\n",
       "| Sobic.001G000400 |  5.579774 |  2.671986 |  6.172164 |  2.080449 |  2.423623 |  2.548130 |\n",
       "| Sobic.001G000700 | 19.324217 | 27.128619 | 15.201962 | 26.026254 | 34.274038 | 25.199141 |\n",
       "| Sobic.001G000800 | 74.411018 | 83.144124 | 71.647825 | 79.997879 | 72.089717 | 75.400417 |\n",
       "| Sobic.001G001000 |  9.283077 |  2.593142 |  3.164549 |  2.650016 | 10.290474 | 11.015830 |\n",
       "| Sobic.001G001132 |  7.464743 |  4.170414 |  3.817033 |  6.392823 |  9.929777 |  3.796324 |\n",
       "\n"
      ],
      "text/plain": [
       "                 ctr1      ctr2      ctr3      trt1      trt2      trt3     \n",
       "Sobic.001G000200 92.610641 99.193569 68.931922 91.044504 73.624134 93.640111\n",
       "Sobic.001G000400  5.579774  2.671986  6.172164  2.080449  2.423623  2.548130\n",
       "Sobic.001G000700 19.324217 27.128619 15.201962 26.026254 34.274038 25.199141\n",
       "Sobic.001G000800 74.411018 83.144124 71.647825 79.997879 72.089717 75.400417\n",
       "Sobic.001G001000  9.283077  2.593142  3.164549  2.650016 10.290474 11.015830\n",
       "Sobic.001G001132  7.464743  4.170414  3.817033  6.392823  9.929777  3.796324"
      ]
     },
     "metadata": {},
     "output_type": "display_data"
    }
   ],
   "source": [
    "# load library\n",
    "library(edgeR)\n",
    "x <- read.csv(\"https://reneshbedre.github.io/assets/posts/gexp/df_sc.csv\",row.names=\"gene\")\n",
    "\n",
    "# calculate reads per Kbp of gene length (corrected for gene length)\n",
    "# gene length is in bp in exppression dataset and converted to Kbp\n",
    "rpk <- ( (x[,1:6]*10^3 )/x[,7])\n",
    "# comparing groups\n",
    "group <- factor(c('c','c', 'c', 't', 't', 't'))\n",
    "y <- DGEList(counts=rpk, group=group)\n",
    "# normalize for library size by cacluating scaling factor using TMM (default method)\n",
    "y <- calcNormFactors(y)\n",
    "# normalization factors for each library\n",
    "y$samples\n",
    "# count per million read (normalized count)\n",
    "norm_counts <- cpm(y)\n",
    "head(norm_counts)\n"
   ]
  },
  {
   "cell_type": "code",
   "execution_count": null,
   "id": "b9db2528",
   "metadata": {},
   "outputs": [],
   "source": [
    "##Refrence: https://www.reneshbedre.com/blog/expression_units.html"
   ]
  },
  {
   "cell_type": "code",
   "execution_count": null,
   "id": "ee31597a",
   "metadata": {},
   "outputs": [],
   "source": []
  }
 ],
 "metadata": {
  "kernelspec": {
   "display_name": "R",
   "language": "R",
   "name": "ir"
  },
  "language_info": {
   "codemirror_mode": "r",
   "file_extension": ".r",
   "mimetype": "text/x-r-source",
   "name": "R",
   "pygments_lexer": "r",
   "version": "4.3.2"
  }
 },
 "nbformat": 4,
 "nbformat_minor": 5
}
