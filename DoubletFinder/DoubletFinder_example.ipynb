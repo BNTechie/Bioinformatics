{
 "cells": [
  {
   "cell_type": "code",
   "execution_count": 1,
   "id": "0d6c7180-18f1-49cc-ad20-2242bfa3359a",
   "metadata": {},
   "outputs": [
    {
     "name": "stderr",
     "output_type": "stream",
     "text": [
      "Warning message:\n",
      "“package ‘Seurat’ was built under R version 4.3.3”\n",
      "Loading required package: SeuratObject\n",
      "\n",
      "Warning message:\n",
      "“package ‘SeuratObject’ was built under R version 4.3.3”\n",
      "Loading required package: sp\n",
      "\n",
      "\n",
      "Attaching package: ‘SeuratObject’\n",
      "\n",
      "\n",
      "The following objects are masked from ‘package:base’:\n",
      "\n",
      "    intersect, t\n",
      "\n",
      "\n"
     ]
    }
   ],
   "source": [
    "# Install DoubletFinder if not already installed\n",
    "#install.packages('remotes')\n",
    "#remotes::install_github('chris-mcginnis-ucsf/DoubletFinder')\n",
    "\n",
    "# Install and load Seurat\n",
    "#install.packages(\"Seurat\")\n",
    "library(Seurat)\n",
    "\n",
    "# Load DoubletFinder\n",
    "library(DoubletFinder)\n"
   ]
  },
  {
   "cell_type": "code",
   "execution_count": 2,
   "id": "a68629bf-0f3d-4e05-804d-5e80b46e6b4e",
   "metadata": {},
   "outputs": [
    {
     "name": "stderr",
     "output_type": "stream",
     "text": [
      "Warning message:\n",
      "“Feature names cannot have underscores ('_'), replacing with dashes ('-')”\n"
     ]
    },
    {
     "data": {
      "text/plain": [
       "An object of class Seurat \n",
       "13714 features across 2700 samples within 1 assay \n",
       "Active assay: RNA (13714 features, 0 variable features)\n",
       " 1 layer present: counts"
      ]
     },
     "metadata": {},
     "output_type": "display_data"
    }
   ],
   "source": [
    "# Create a directory to store the data\n",
    "#dir.create(\"pbmc3k_data\")\n",
    "# Set the working directory\n",
    "#setwd(\"pbmc3k_data\")\n",
    "\n",
    "#download.file(\"https://cf.10xgenomics.com/samples/cell/pbmc3k/pbmc3k_filtered_gene_bc_matrices.tar.gz\", destfile = \"pbmc3k_filtered_gene_bc_matrices.tar.gz\")\n",
    "# Extract the downloaded file\n",
    "#untar(\"pbmc3k_filtered_gene_bc_matrices.tar.gz\")\n",
    "# List the files to ensure the correct structure\n",
    "#list.files(\"filtered_gene_bc_matrices/hg19/\")\n",
    "# Load the pbmc3k dataset\n",
    "#pbmc.data <- Read10X(data.dir = \"filtered_gene_bc_matrices/hg19/\")\n",
    "\n",
    "#remotes::install_github('chris-mcginnis-ucsf/DoubletFinder')\n",
    "# Load the pbmc3k dataset\n",
    "pbmc.data <- Read10X(data.dir = \"./pbmc3k_data/filtered_gene_bc_matrices/hg19/\")\n",
    "# Load PBMC dataset\n",
    "#pbmc.data <- Read10X(data.dir = \"filtered_gene_bc_matrices/hg19/\")\n",
    "\n",
    "# Initialize the Seurat object with the raw (non-normalized data)\n",
    "pbmc <- CreateSeuratObject(counts = pbmc.data, project = \"pbmc3k\", min.cells = 3, min.features = 200)\n",
    "pbmc\n"
   ]
  },
  {
   "cell_type": "code",
   "execution_count": 3,
   "id": "e50ed70b-474c-456b-85eb-0382295b75ae",
   "metadata": {},
   "outputs": [
    {
     "name": "stderr",
     "output_type": "stream",
     "text": [
      "Normalizing layer: counts\n",
      "\n"
     ]
    }
   ],
   "source": [
    "seurat_obj<-pbmc\n",
    "# Example data (assuming you have a Seurat object named 'seurat_obj')\n",
    "seurat_obj <- NormalizeData(seurat_obj)"
   ]
  },
  {
   "cell_type": "code",
   "execution_count": 4,
   "id": "a9ab1722-abed-4721-8f2f-110a9301dbd3",
   "metadata": {},
   "outputs": [
    {
     "name": "stderr",
     "output_type": "stream",
     "text": [
      "Finding variable features for layer counts\n",
      "\n"
     ]
    }
   ],
   "source": [
    "\n",
    "seurat_obj <- FindVariableFeatures(seurat_obj)"
   ]
  },
  {
   "cell_type": "code",
   "execution_count": 5,
   "id": "a3d21889-46fd-4541-9732-a196bc7728ae",
   "metadata": {},
   "outputs": [
    {
     "name": "stderr",
     "output_type": "stream",
     "text": [
      "Centering and scaling data matrix\n",
      "\n"
     ]
    }
   ],
   "source": [
    "\n",
    "seurat_obj <- ScaleData(seurat_obj)"
   ]
  },
  {
   "cell_type": "code",
   "execution_count": 6,
   "id": "f4bda16d-ddd7-49af-8521-d4d26dd9db49",
   "metadata": {},
   "outputs": [
    {
     "name": "stderr",
     "output_type": "stream",
     "text": [
      "PC_ 1 \n",
      "Positive:  MALAT1, LTB, IL32, CD2, ACAP1, STK17A, CTSW, CD247, CCL5, GIMAP5 \n",
      "\t   AQP3, GZMA, CST7, TRAF3IP3, MAL, HOPX, ITM2A, GZMK, MYC, BEX2 \n",
      "\t   GIMAP7, ETS1, LDLRAP1, ZAP70, LYAR, RIC3, TNFAIP8, KLRG1, SAMD3, NKG7 \n",
      "Negative:  CST3, TYROBP, LST1, AIF1, FTL, FCN1, LYZ, FTH1, S100A9, FCER1G \n",
      "\t   TYMP, CFD, LGALS1, CTSS, S100A8, SERPINA1, LGALS2, SPI1, IFITM3, PSAP \n",
      "\t   CFP, SAT1, IFI30, COTL1, S100A11, NPC2, LGALS3, GSTP1, PYCARD, NCF2 \n",
      "PC_ 2 \n",
      "Positive:  CD79A, MS4A1, TCL1A, HLA-DQA1, HLA-DRA, HLA-DQB1, LINC00926, CD79B, HLA-DRB1, CD74 \n",
      "\t   HLA-DPB1, HLA-DMA, HLA-DQA2, HLA-DRB5, HLA-DPA1, HLA-DMB, FCRLA, HVCN1, LTB, BLNK \n",
      "\t   KIAA0125, P2RX5, IRF8, IGLL5, SWAP70, ARHGAP24, SMIM14, PPP1R14A, FCRL2, C16orf74 \n",
      "Negative:  NKG7, PRF1, CST7, GZMA, GZMB, FGFBP2, CTSW, GNLY, GZMH, SPON2 \n",
      "\t   CCL4, FCGR3A, CCL5, CD247, XCL2, CLIC3, AKR1C3, SRGN, HOPX, CTSC \n",
      "\t   TTC38, S100A4, ANXA1, IL32, IGFBP7, ID2, ACTB, XCL1, APOBEC3G, SAMD3 \n",
      "PC_ 3 \n",
      "Positive:  HLA-DQA1, CD79A, CD79B, HLA-DQB1, HLA-DPB1, CD74, HLA-DPA1, MS4A1, HLA-DRB1, HLA-DRB5 \n",
      "\t   HLA-DRA, HLA-DQA2, TCL1A, LINC00926, HLA-DMB, HLA-DMA, HVCN1, FCRLA, IRF8, BLNK \n",
      "\t   KIAA0125, SMIM14, PLD4, IGLL5, P2RX5, TMSB10, SWAP70, LAT2, MALAT1, IGJ \n",
      "Negative:  PPBP, PF4, SDPR, SPARC, GNG11, NRGN, GP9, RGS18, TUBB1, CLU \n",
      "\t   HIST1H2AC, AP001189.4, ITGA2B, CD9, TMEM40, CA2, PTCRA, ACRBP, MMD, TREML1 \n",
      "\t   NGFRAP1, F13A1, RUFY1, SEPT5, MPP1, CMTM5, TSC22D1, MYL9, RP11-367G6.3, GP1BA \n",
      "PC_ 4 \n",
      "Positive:  HLA-DQA1, CD79A, CD79B, HIST1H2AC, HLA-DQB1, PF4, MS4A1, SDPR, CD74, PPBP \n",
      "\t   HLA-DPB1, GNG11, HLA-DQA2, SPARC, HLA-DRB1, HLA-DPA1, GP9, TCL1A, HLA-DRA, LINC00926 \n",
      "\t   NRGN, RGS18, HLA-DRB5, PTCRA, CD9, AP001189.4, CA2, CLU, TUBB1, ITGA2B \n",
      "Negative:  VIM, S100A8, S100A6, S100A4, S100A9, TMSB10, IL32, GIMAP7, LGALS2, S100A10 \n",
      "\t   RBP7, FCN1, MAL, LYZ, S100A12, MS4A6A, CD2, FYB, S100A11, FOLR3 \n",
      "\t   GIMAP4, AQP3, ANXA1, AIF1, MALAT1, GIMAP5, IL8, IFI6, TRABD2A, TMSB4X \n",
      "PC_ 5 \n",
      "Positive:  GZMB, FGFBP2, NKG7, GNLY, PRF1, CCL4, CST7, SPON2, GZMA, CLIC3 \n",
      "\t   GZMH, XCL2, CTSW, TTC38, AKR1C3, CCL5, IGFBP7, XCL1, CCL3, S100A8 \n",
      "\t   TYROBP, HOPX, CD160, HAVCR2, S100A9, FCER1G, PTGDR, LGALS2, RBP7, S100A12 \n",
      "Negative:  LTB, VIM, AQP3, PPA1, MAL, KIAA0101, CD2, CYTIP, CORO1B, FYB \n",
      "\t   IL32, TRADD, ANXA5, TUBA1B, HN1, TYMS, PTGES3, ITM2A, COTL1, GPR183 \n",
      "\t   TNFAIP8, ACTG1, TRAF3IP3, ATP5C1, GIMAP4, ZWINT, PRDX1, LDLRAP1, ABRACL, NGFRAP1 \n",
      "\n"
     ]
    }
   ],
   "source": [
    "seurat_obj <- RunPCA(seurat_obj)"
   ]
  },
  {
   "cell_type": "code",
   "execution_count": 7,
   "id": "570bb8bb-7e06-4849-958b-c0b53199eb17",
   "metadata": {},
   "outputs": [
    {
     "name": "stderr",
     "output_type": "stream",
     "text": [
      "Computing nearest neighbor graph\n",
      "\n",
      "Computing SNN\n",
      "\n"
     ]
    }
   ],
   "source": [
    "\n",
    "seurat_obj <- FindNeighbors(seurat_obj, dims = 1:10)"
   ]
  },
  {
   "cell_type": "code",
   "execution_count": 8,
   "id": "7262d456-18f8-4199-ad8d-cf8c8c7b18a0",
   "metadata": {},
   "outputs": [
    {
     "name": "stdout",
     "output_type": "stream",
     "text": [
      "Modularity Optimizer version 1.3.0 by Ludo Waltman and Nees Jan van Eck\n",
      "\n",
      "Number of nodes: 2700\n",
      "Number of edges: 97892\n",
      "\n",
      "Running Louvain algorithm...\n",
      "Maximum modularity in 10 random starts: 0.8719\n",
      "Number of communities: 9\n",
      "Elapsed time: 0 seconds\n"
     ]
    }
   ],
   "source": [
    "seurat_obj <- FindClusters(seurat_obj, resolution = 0.5)"
   ]
  },
  {
   "cell_type": "code",
   "execution_count": 9,
   "id": "5c3cddbb-76be-442e-8ba4-74967766d230",
   "metadata": {},
   "outputs": [
    {
     "name": "stderr",
     "output_type": "stream",
     "text": [
      "Warning message:\n",
      "“The default method for RunUMAP has changed from calling Python UMAP via reticulate to the R-native UWOT using the cosine metric\n",
      "To use Python UMAP via reticulate, set umap.method to 'umap-learn' and metric to 'correlation'\n",
      "This message will be shown once per session”\n",
      "15:49:14 UMAP embedding parameters a = 0.9922 b = 1.112\n",
      "\n",
      "Found more than one class \"dist\" in cache; using the first, from namespace 'BiocGenerics'\n",
      "\n",
      "Also defined by ‘spam’\n",
      "\n",
      "15:49:14 Read 2700 rows and found 10 numeric columns\n",
      "\n",
      "15:49:14 Using Annoy for neighbor search, n_neighbors = 30\n",
      "\n",
      "Found more than one class \"dist\" in cache; using the first, from namespace 'BiocGenerics'\n",
      "\n",
      "Also defined by ‘spam’\n",
      "\n",
      "15:49:14 Building Annoy index with metric = cosine, n_trees = 50\n",
      "\n",
      "0%   10   20   30   40   50   60   70   80   90   100%\n",
      "\n",
      "[----|----|----|----|----|----|----|----|----|----|\n",
      "\n",
      "*\n",
      "*\n",
      "*\n",
      "*\n",
      "*\n",
      "*\n",
      "*\n",
      "*\n",
      "*\n",
      "*\n",
      "*\n",
      "*\n",
      "*\n",
      "*\n",
      "*\n",
      "*\n",
      "*\n",
      "*\n",
      "*\n",
      "*\n",
      "*\n",
      "*\n",
      "*\n",
      "*\n",
      "*\n",
      "*\n",
      "*\n",
      "*\n",
      "*\n",
      "*\n",
      "*\n",
      "*\n",
      "*\n",
      "*\n",
      "*\n",
      "*\n",
      "*\n",
      "*\n",
      "*\n",
      "*\n",
      "*\n",
      "*\n",
      "*\n",
      "*\n",
      "*\n",
      "*\n",
      "*\n",
      "*\n",
      "*\n",
      "*\n",
      "|\n",
      "\n",
      "15:49:15 Writing NN index file to temp file /var/folders/3f/6pzn2nyn32d7wthyxkzsqyxcdrtvym/T//Rtmpo7JuYm/file7956770389f\n",
      "\n",
      "15:49:15 Searching Annoy index using 1 thread, search_k = 3000\n",
      "\n",
      "15:49:15 Annoy recall = 100%\n",
      "\n",
      "15:49:15 Commencing smooth kNN distance calibration using 1 thread\n",
      " with target n_neighbors = 30\n",
      "\n",
      "15:49:16 Initializing from normalized Laplacian + noise (using RSpectra)\n",
      "\n",
      "15:49:16 Commencing optimization for 500 epochs, with 107868 positive edges\n",
      "\n",
      "15:49:19 Optimization finished\n",
      "\n"
     ]
    }
   ],
   "source": [
    "seurat_obj <- RunUMAP(seurat_obj, dims = 1:10)"
   ]
  },
  {
   "cell_type": "code",
   "execution_count": 10,
   "id": "203d7581-eef9-40a0-bc84-46266e98aadb",
   "metadata": {},
   "outputs": [
    {
     "name": "stderr",
     "output_type": "stream",
     "text": [
      "Loading required package: fields\n",
      "\n",
      "Loading required package: spam\n",
      "\n",
      "Spam version 2.10-0 (2023-10-23) is loaded.\n",
      "Type 'help( Spam)' or 'demo( spam)' for a short introduction \n",
      "and overview of this package.\n",
      "Help for individual functions is also obtained by adding the\n",
      "suffix '.spam' to the function name, e.g. 'help( chol.spam)'.\n",
      "\n",
      "\n",
      "Attaching package: ‘spam’\n",
      "\n",
      "\n",
      "The following objects are masked from ‘package:base’:\n",
      "\n",
      "    backsolve, forwardsolve\n",
      "\n",
      "\n",
      "Loading required package: viridisLite\n",
      "\n",
      "\n",
      "Try help(fields) to get started.\n",
      "\n",
      "Loading required package: parallel\n",
      "\n"
     ]
    },
    {
     "name": "stdout",
     "output_type": "stream",
     "text": [
      "[1] \"Creating artificial doublets for pN = 5%\"\n",
      "[1] \"Creating Seurat object...\"\n",
      "[1] \"Normalizing Seurat object...\"\n"
     ]
    },
    {
     "name": "stderr",
     "output_type": "stream",
     "text": [
      "Normalizing layer: counts\n",
      "\n"
     ]
    },
    {
     "name": "stdout",
     "output_type": "stream",
     "text": [
      "[1] \"Finding variable genes...\"\n"
     ]
    },
    {
     "name": "stderr",
     "output_type": "stream",
     "text": [
      "Finding variable features for layer counts\n",
      "\n"
     ]
    },
    {
     "name": "stdout",
     "output_type": "stream",
     "text": [
      "[1] \"Scaling data...\"\n"
     ]
    },
    {
     "name": "stderr",
     "output_type": "stream",
     "text": [
      "Centering and scaling data matrix\n",
      "\n"
     ]
    },
    {
     "name": "stdout",
     "output_type": "stream",
     "text": [
      "[1] \"Running PCA...\"\n",
      "[1] \"Calculating PC distance matrix...\"\n",
      "[1] \"Defining neighborhoods...\"\n",
      "[1] \"Computing pANN across all pK...\"\n",
      "[1] \"pK = 0.005...\"\n",
      "[1] \"pK = 0.01...\"\n",
      "[1] \"pK = 0.02...\"\n",
      "[1] \"pK = 0.03...\"\n",
      "[1] \"pK = 0.04...\"\n",
      "[1] \"pK = 0.05...\"\n",
      "[1] \"pK = 0.06...\"\n",
      "[1] \"pK = 0.07...\"\n",
      "[1] \"pK = 0.08...\"\n",
      "[1] \"pK = 0.09...\"\n",
      "[1] \"pK = 0.1...\"\n",
      "[1] \"pK = 0.11...\"\n",
      "[1] \"pK = 0.12...\"\n",
      "[1] \"pK = 0.13...\"\n",
      "[1] \"pK = 0.14...\"\n",
      "[1] \"pK = 0.15...\"\n",
      "[1] \"pK = 0.16...\"\n",
      "[1] \"pK = 0.17...\"\n",
      "[1] \"pK = 0.18...\"\n",
      "[1] \"pK = 0.19...\"\n",
      "[1] \"pK = 0.2...\"\n",
      "[1] \"pK = 0.21...\"\n",
      "[1] \"pK = 0.22...\"\n",
      "[1] \"pK = 0.23...\"\n",
      "[1] \"pK = 0.24...\"\n",
      "[1] \"pK = 0.25...\"\n",
      "[1] \"pK = 0.26...\"\n",
      "[1] \"pK = 0.27...\"\n",
      "[1] \"pK = 0.28...\"\n",
      "[1] \"pK = 0.29...\"\n",
      "[1] \"pK = 0.3...\"\n",
      "[1] \"Creating artificial doublets for pN = 10%\"\n",
      "[1] \"Creating Seurat object...\"\n",
      "[1] \"Normalizing Seurat object...\"\n"
     ]
    },
    {
     "name": "stderr",
     "output_type": "stream",
     "text": [
      "Normalizing layer: counts\n",
      "\n"
     ]
    },
    {
     "name": "stdout",
     "output_type": "stream",
     "text": [
      "[1] \"Finding variable genes...\"\n"
     ]
    },
    {
     "name": "stderr",
     "output_type": "stream",
     "text": [
      "Finding variable features for layer counts\n",
      "\n"
     ]
    },
    {
     "name": "stdout",
     "output_type": "stream",
     "text": [
      "[1] \"Scaling data...\"\n"
     ]
    },
    {
     "name": "stderr",
     "output_type": "stream",
     "text": [
      "Centering and scaling data matrix\n",
      "\n"
     ]
    },
    {
     "name": "stdout",
     "output_type": "stream",
     "text": [
      "[1] \"Running PCA...\"\n",
      "[1] \"Calculating PC distance matrix...\"\n",
      "[1] \"Defining neighborhoods...\"\n",
      "[1] \"Computing pANN across all pK...\"\n",
      "[1] \"pK = 0.005...\"\n",
      "[1] \"pK = 0.01...\"\n",
      "[1] \"pK = 0.02...\"\n",
      "[1] \"pK = 0.03...\"\n",
      "[1] \"pK = 0.04...\"\n",
      "[1] \"pK = 0.05...\"\n",
      "[1] \"pK = 0.06...\"\n",
      "[1] \"pK = 0.07...\"\n",
      "[1] \"pK = 0.08...\"\n",
      "[1] \"pK = 0.09...\"\n",
      "[1] \"pK = 0.1...\"\n",
      "[1] \"pK = 0.11...\"\n",
      "[1] \"pK = 0.12...\"\n",
      "[1] \"pK = 0.13...\"\n",
      "[1] \"pK = 0.14...\"\n",
      "[1] \"pK = 0.15...\"\n",
      "[1] \"pK = 0.16...\"\n",
      "[1] \"pK = 0.17...\"\n",
      "[1] \"pK = 0.18...\"\n",
      "[1] \"pK = 0.19...\"\n",
      "[1] \"pK = 0.2...\"\n",
      "[1] \"pK = 0.21...\"\n",
      "[1] \"pK = 0.22...\"\n",
      "[1] \"pK = 0.23...\"\n",
      "[1] \"pK = 0.24...\"\n",
      "[1] \"pK = 0.25...\"\n",
      "[1] \"pK = 0.26...\"\n",
      "[1] \"pK = 0.27...\"\n",
      "[1] \"pK = 0.28...\"\n",
      "[1] \"pK = 0.29...\"\n",
      "[1] \"pK = 0.3...\"\n",
      "[1] \"Creating artificial doublets for pN = 15%\"\n",
      "[1] \"Creating Seurat object...\"\n",
      "[1] \"Normalizing Seurat object...\"\n"
     ]
    },
    {
     "name": "stderr",
     "output_type": "stream",
     "text": [
      "Normalizing layer: counts\n",
      "\n"
     ]
    },
    {
     "name": "stdout",
     "output_type": "stream",
     "text": [
      "[1] \"Finding variable genes...\"\n"
     ]
    },
    {
     "name": "stderr",
     "output_type": "stream",
     "text": [
      "Finding variable features for layer counts\n",
      "\n"
     ]
    },
    {
     "name": "stdout",
     "output_type": "stream",
     "text": [
      "[1] \"Scaling data...\"\n"
     ]
    },
    {
     "name": "stderr",
     "output_type": "stream",
     "text": [
      "Centering and scaling data matrix\n",
      "\n"
     ]
    },
    {
     "name": "stdout",
     "output_type": "stream",
     "text": [
      "[1] \"Running PCA...\"\n",
      "[1] \"Calculating PC distance matrix...\"\n",
      "[1] \"Defining neighborhoods...\"\n",
      "[1] \"Computing pANN across all pK...\"\n",
      "[1] \"pK = 0.005...\"\n",
      "[1] \"pK = 0.01...\"\n",
      "[1] \"pK = 0.02...\"\n",
      "[1] \"pK = 0.03...\"\n",
      "[1] \"pK = 0.04...\"\n",
      "[1] \"pK = 0.05...\"\n",
      "[1] \"pK = 0.06...\"\n",
      "[1] \"pK = 0.07...\"\n",
      "[1] \"pK = 0.08...\"\n",
      "[1] \"pK = 0.09...\"\n",
      "[1] \"pK = 0.1...\"\n",
      "[1] \"pK = 0.11...\"\n",
      "[1] \"pK = 0.12...\"\n",
      "[1] \"pK = 0.13...\"\n",
      "[1] \"pK = 0.14...\"\n",
      "[1] \"pK = 0.15...\"\n",
      "[1] \"pK = 0.16...\"\n",
      "[1] \"pK = 0.17...\"\n",
      "[1] \"pK = 0.18...\"\n",
      "[1] \"pK = 0.19...\"\n",
      "[1] \"pK = 0.2...\"\n",
      "[1] \"pK = 0.21...\"\n",
      "[1] \"pK = 0.22...\"\n",
      "[1] \"pK = 0.23...\"\n",
      "[1] \"pK = 0.24...\"\n",
      "[1] \"pK = 0.25...\"\n",
      "[1] \"pK = 0.26...\"\n",
      "[1] \"pK = 0.27...\"\n",
      "[1] \"pK = 0.28...\"\n",
      "[1] \"pK = 0.29...\"\n",
      "[1] \"pK = 0.3...\"\n",
      "[1] \"Creating artificial doublets for pN = 20%\"\n",
      "[1] \"Creating Seurat object...\"\n",
      "[1] \"Normalizing Seurat object...\"\n"
     ]
    },
    {
     "name": "stderr",
     "output_type": "stream",
     "text": [
      "Normalizing layer: counts\n",
      "\n"
     ]
    },
    {
     "name": "stdout",
     "output_type": "stream",
     "text": [
      "[1] \"Finding variable genes...\"\n"
     ]
    },
    {
     "name": "stderr",
     "output_type": "stream",
     "text": [
      "Finding variable features for layer counts\n",
      "\n"
     ]
    },
    {
     "name": "stdout",
     "output_type": "stream",
     "text": [
      "[1] \"Scaling data...\"\n"
     ]
    },
    {
     "name": "stderr",
     "output_type": "stream",
     "text": [
      "Centering and scaling data matrix\n",
      "\n"
     ]
    },
    {
     "name": "stdout",
     "output_type": "stream",
     "text": [
      "[1] \"Running PCA...\"\n",
      "[1] \"Calculating PC distance matrix...\"\n",
      "[1] \"Defining neighborhoods...\"\n",
      "[1] \"Computing pANN across all pK...\"\n",
      "[1] \"pK = 0.005...\"\n",
      "[1] \"pK = 0.01...\"\n",
      "[1] \"pK = 0.02...\"\n",
      "[1] \"pK = 0.03...\"\n",
      "[1] \"pK = 0.04...\"\n",
      "[1] \"pK = 0.05...\"\n",
      "[1] \"pK = 0.06...\"\n",
      "[1] \"pK = 0.07...\"\n",
      "[1] \"pK = 0.08...\"\n",
      "[1] \"pK = 0.09...\"\n",
      "[1] \"pK = 0.1...\"\n",
      "[1] \"pK = 0.11...\"\n",
      "[1] \"pK = 0.12...\"\n",
      "[1] \"pK = 0.13...\"\n",
      "[1] \"pK = 0.14...\"\n",
      "[1] \"pK = 0.15...\"\n",
      "[1] \"pK = 0.16...\"\n",
      "[1] \"pK = 0.17...\"\n",
      "[1] \"pK = 0.18...\"\n",
      "[1] \"pK = 0.19...\"\n",
      "[1] \"pK = 0.2...\"\n",
      "[1] \"pK = 0.21...\"\n",
      "[1] \"pK = 0.22...\"\n",
      "[1] \"pK = 0.23...\"\n",
      "[1] \"pK = 0.24...\"\n",
      "[1] \"pK = 0.25...\"\n",
      "[1] \"pK = 0.26...\"\n",
      "[1] \"pK = 0.27...\"\n",
      "[1] \"pK = 0.28...\"\n",
      "[1] \"pK = 0.29...\"\n",
      "[1] \"pK = 0.3...\"\n",
      "[1] \"Creating artificial doublets for pN = 25%\"\n",
      "[1] \"Creating Seurat object...\"\n",
      "[1] \"Normalizing Seurat object...\"\n"
     ]
    },
    {
     "name": "stderr",
     "output_type": "stream",
     "text": [
      "Normalizing layer: counts\n",
      "\n"
     ]
    },
    {
     "name": "stdout",
     "output_type": "stream",
     "text": [
      "[1] \"Finding variable genes...\"\n"
     ]
    },
    {
     "name": "stderr",
     "output_type": "stream",
     "text": [
      "Finding variable features for layer counts\n",
      "\n"
     ]
    },
    {
     "name": "stdout",
     "output_type": "stream",
     "text": [
      "[1] \"Scaling data...\"\n"
     ]
    },
    {
     "name": "stderr",
     "output_type": "stream",
     "text": [
      "Centering and scaling data matrix\n",
      "\n"
     ]
    },
    {
     "name": "stdout",
     "output_type": "stream",
     "text": [
      "[1] \"Running PCA...\"\n",
      "[1] \"Calculating PC distance matrix...\"\n",
      "[1] \"Defining neighborhoods...\"\n",
      "[1] \"Computing pANN across all pK...\"\n",
      "[1] \"pK = 0.005...\"\n",
      "[1] \"pK = 0.01...\"\n",
      "[1] \"pK = 0.02...\"\n",
      "[1] \"pK = 0.03...\"\n",
      "[1] \"pK = 0.04...\"\n",
      "[1] \"pK = 0.05...\"\n",
      "[1] \"pK = 0.06...\"\n",
      "[1] \"pK = 0.07...\"\n",
      "[1] \"pK = 0.08...\"\n",
      "[1] \"pK = 0.09...\"\n",
      "[1] \"pK = 0.1...\"\n",
      "[1] \"pK = 0.11...\"\n",
      "[1] \"pK = 0.12...\"\n",
      "[1] \"pK = 0.13...\"\n",
      "[1] \"pK = 0.14...\"\n",
      "[1] \"pK = 0.15...\"\n",
      "[1] \"pK = 0.16...\"\n",
      "[1] \"pK = 0.17...\"\n",
      "[1] \"pK = 0.18...\"\n",
      "[1] \"pK = 0.19...\"\n",
      "[1] \"pK = 0.2...\"\n",
      "[1] \"pK = 0.21...\"\n",
      "[1] \"pK = 0.22...\"\n",
      "[1] \"pK = 0.23...\"\n",
      "[1] \"pK = 0.24...\"\n",
      "[1] \"pK = 0.25...\"\n",
      "[1] \"pK = 0.26...\"\n",
      "[1] \"pK = 0.27...\"\n",
      "[1] \"pK = 0.28...\"\n",
      "[1] \"pK = 0.29...\"\n",
      "[1] \"pK = 0.3...\"\n",
      "[1] \"Creating artificial doublets for pN = 30%\"\n",
      "[1] \"Creating Seurat object...\"\n",
      "[1] \"Normalizing Seurat object...\"\n"
     ]
    },
    {
     "name": "stderr",
     "output_type": "stream",
     "text": [
      "Normalizing layer: counts\n",
      "\n"
     ]
    },
    {
     "name": "stdout",
     "output_type": "stream",
     "text": [
      "[1] \"Finding variable genes...\"\n"
     ]
    },
    {
     "name": "stderr",
     "output_type": "stream",
     "text": [
      "Finding variable features for layer counts\n",
      "\n"
     ]
    },
    {
     "name": "stdout",
     "output_type": "stream",
     "text": [
      "[1] \"Scaling data...\"\n"
     ]
    },
    {
     "name": "stderr",
     "output_type": "stream",
     "text": [
      "Centering and scaling data matrix\n",
      "\n"
     ]
    },
    {
     "name": "stdout",
     "output_type": "stream",
     "text": [
      "[1] \"Running PCA...\"\n",
      "[1] \"Calculating PC distance matrix...\"\n",
      "[1] \"Defining neighborhoods...\"\n",
      "[1] \"Computing pANN across all pK...\"\n",
      "[1] \"pK = 0.005...\"\n",
      "[1] \"pK = 0.01...\"\n",
      "[1] \"pK = 0.02...\"\n",
      "[1] \"pK = 0.03...\"\n",
      "[1] \"pK = 0.04...\"\n",
      "[1] \"pK = 0.05...\"\n",
      "[1] \"pK = 0.06...\"\n",
      "[1] \"pK = 0.07...\"\n",
      "[1] \"pK = 0.08...\"\n",
      "[1] \"pK = 0.09...\"\n",
      "[1] \"pK = 0.1...\"\n",
      "[1] \"pK = 0.11...\"\n",
      "[1] \"pK = 0.12...\"\n",
      "[1] \"pK = 0.13...\"\n",
      "[1] \"pK = 0.14...\"\n",
      "[1] \"pK = 0.15...\"\n",
      "[1] \"pK = 0.16...\"\n",
      "[1] \"pK = 0.17...\"\n",
      "[1] \"pK = 0.18...\"\n",
      "[1] \"pK = 0.19...\"\n",
      "[1] \"pK = 0.2...\"\n",
      "[1] \"pK = 0.21...\"\n",
      "[1] \"pK = 0.22...\"\n",
      "[1] \"pK = 0.23...\"\n",
      "[1] \"pK = 0.24...\"\n",
      "[1] \"pK = 0.25...\"\n",
      "[1] \"pK = 0.26...\"\n",
      "[1] \"pK = 0.27...\"\n",
      "[1] \"pK = 0.28...\"\n",
      "[1] \"pK = 0.29...\"\n",
      "[1] \"pK = 0.3...\"\n"
     ]
    }
   ],
   "source": [
    "# pK Identification (no ground-truth)\n",
    "sweep.res.list <- paramSweep(seurat_obj, PCs = 1:10, sct = FALSE)"
   ]
  },
  {
   "cell_type": "code",
   "execution_count": 11,
   "id": "60683c56-8133-490b-9a34-d5a7c89c67ca",
   "metadata": {},
   "outputs": [
    {
     "name": "stderr",
     "output_type": "stream",
     "text": [
      "Loading required package: KernSmooth\n",
      "\n",
      "Warning message:\n",
      "“package ‘KernSmooth’ was built under R version 4.3.3”\n",
      "KernSmooth 2.23 loaded\n",
      "Copyright M. P. Wand 1997-2009\n",
      "\n",
      "Loading required package: ROCR\n",
      "\n"
     ]
    },
    {
     "name": "stdout",
     "output_type": "stream",
     "text": [
      "NULL\n"
     ]
    },
    {
     "data": {
      "image/png": "[encoded data removed]",
      "text/plain": [
       "plot without title"
      ]
     },
     "metadata": {
      "image/png": {
       "height": 420,
       "width": 420
      }
     },
     "output_type": "display_data"
    }
   ],
   "source": [
    "\n",
    "sweep.stats <- summarizeSweep(sweep.res.list, GT = FALSE)\n",
    "bcmvn <- find.pK(sweep.stats)"
   ]
  },
  {
   "cell_type": "code",
   "execution_count": 12,
   "id": "4f0d9368-e596-4000-96d7-3337723588ac",
   "metadata": {},
   "outputs": [],
   "source": [
    "\n",
    "# Homotypic Doublet Proportion Estimate\n",
    "annotations <- seurat_obj@meta.data$seurat_clusters\n",
    "homotypic.prop <- modelHomotypic(annotations)"
   ]
  },
  {
   "cell_type": "code",
   "execution_count": 13,
   "id": "d9f6d007-4526-4a3d-9219-a9eb0fbf7cca",
   "metadata": {},
   "outputs": [],
   "source": [
    "\n",
    "nExp_poi <- round(0.075 * nrow(seurat_obj@meta.data))  # Assuming 7.5% doublet formation rate\n",
    "nExp_poi.adj <- round(nExp_poi * (1 - homotypic.prop))"
   ]
  },
  {
   "cell_type": "code",
   "execution_count": 15,
   "id": "4b45db0b-b027-4ec7-90ce-d3d6a5b2e29e",
   "metadata": {},
   "outputs": [
    {
     "name": "stdout",
     "output_type": "stream",
     "text": [
      "[1] \"Creating 900 artificial doublets...\"\n",
      "[1] \"Creating Seurat object...\"\n",
      "[1] \"Normalizing Seurat object...\"\n"
     ]
    },
    {
     "name": "stderr",
     "output_type": "stream",
     "text": [
      "Normalizing layer: counts\n",
      "\n"
     ]
    },
    {
     "name": "stdout",
     "output_type": "stream",
     "text": [
      "[1] \"Finding variable genes...\"\n"
     ]
    },
    {
     "name": "stderr",
     "output_type": "stream",
     "text": [
      "Finding variable features for layer counts\n",
      "\n"
     ]
    },
    {
     "name": "stdout",
     "output_type": "stream",
     "text": [
      "[1] \"Scaling data...\"\n"
     ]
    },
    {
     "name": "stderr",
     "output_type": "stream",
     "text": [
      "Centering and scaling data matrix\n",
      "\n"
     ]
    },
    {
     "name": "stdout",
     "output_type": "stream",
     "text": [
      "[1] \"Running PCA...\"\n",
      "[1] \"Calculating PC distance matrix...\"\n",
      "[1] \"Computing pANN...\"\n",
      "[1] \"Classifying doublets..\"\n"
     ]
    }
   ],
   "source": [
    "# Run DoubletFinder with varying classification stringencies\n",
    "seurat_obj <- doubletFinder(seurat_obj, PCs = 1:10, pN = 0.25, pK = 0.09, nExp = nExp_poi, reuse.pANN = FALSE, sct = FALSE)\n",
    "seurat_obj <- doubletFinder(seurat_obj, PCs = 1:10, pN = 0.25, pK = 0.09, nExp = nExp_poi.adj, reuse.pANN = paste0(\"pANN_0.25_0.09_\", nExp_poi), sct = FALSE)\n"
   ]
  },
  {
   "cell_type": "code",
   "execution_count": 16,
   "id": "957675cd-1953-49dd-b84c-2b9bba8e0ef3",
   "metadata": {},
   "outputs": [],
   "source": [
    "# Add doublet information to metadata\n",
    "seurat_obj$DF.classifications <- seurat_obj@meta.data[, paste0(\"DF.classifications_0.25_0.09_\", nExp_poi)]\n"
   ]
  },
  {
   "cell_type": "code",
   "execution_count": 18,
   "id": "725b4879-6311-4f31-a0ed-73f487f2aac6",
   "metadata": {},
   "outputs": [
    {
     "data": {
      "image/png": "[encoded data removed]",
      "text/plain": [
       "plot without title"
      ]
     },
     "metadata": {
      "image/png": {
       "height": 420,
       "width": 420
      }
     },
     "output_type": "display_data"
    }
   ],
   "source": [
    "library(ggplot2)\n",
    "# Visualize doublets on UMAP plot\n",
    "DimPlot(seurat_obj, reduction = \"umap\", group.by = \"DF.classifications\") +\n",
    "  ggtitle(\"DoubletFinder Classifications\")\n"
   ]
  },
  {
   "cell_type": "code",
   "execution_count": null,
   "id": "06fb1f8b-9f21-49ae-858d-b7494db2c1c1",
   "metadata": {},
   "outputs": [],
   "source": []
  }
 ],
 "metadata": {
  "kernelspec": {
   "display_name": "R",
   "language": "R",
   "name": "ir"
  },
  "language_info": {
   "codemirror_mode": "r",
   "file_extension": ".r",
   "mimetype": "text/x-r-source",
   "name": "R",
   "pygments_lexer": "r",
   "version": "4.3.2"
  }
 },
 "nbformat": 4,
 "nbformat_minor": 5
}
